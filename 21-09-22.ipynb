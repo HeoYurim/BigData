{
 "cells": [
  {
   "cell_type": "markdown",
   "id": "96a139cf",
   "metadata": {},
   "source": [
    "# 절댓값"
   ]
  },
  {
   "cell_type": "code",
   "execution_count": 1,
   "id": "137e120c",
   "metadata": {},
   "outputs": [],
   "source": [
    "def square(x):\n",
    "    return x * x"
   ]
  },
  {
   "cell_type": "code",
   "execution_count": 2,
   "id": "40bd1c85",
   "metadata": {},
   "outputs": [
    {
     "data": {
      "text/plain": [
       "9"
      ]
     },
     "execution_count": 2,
     "metadata": {},
     "output_type": "execute_result"
    }
   ],
   "source": [
    "square(3)"
   ]
  },
  {
   "cell_type": "code",
   "execution_count": 6,
   "id": "68915bf3",
   "metadata": {},
   "outputs": [],
   "source": [
    "def abs(x) :   #절댓값 반환\n",
    "    if x < 0:\n",
    "        return -x\n",
    "    else:\n",
    "        return x"
   ]
  },
  {
   "cell_type": "code",
   "execution_count": 8,
   "id": "dba93131",
   "metadata": {},
   "outputs": [
    {
     "data": {
      "text/plain": [
       "5.6"
      ]
     },
     "execution_count": 8,
     "metadata": {},
     "output_type": "execute_result"
    }
   ],
   "source": [
    "abs(-5.6)"
   ]
  },
  {
   "cell_type": "markdown",
   "id": "469fd82f",
   "metadata": {},
   "source": [
    "# 비교"
   ]
  },
  {
   "cell_type": "code",
   "execution_count": 9,
   "id": "723446fb",
   "metadata": {},
   "outputs": [],
   "source": [
    "def min_max(a,b):\n",
    "    if a < b:\n",
    "        return a, b\n",
    "    else:\n",
    "        return b, a"
   ]
  },
  {
   "cell_type": "code",
   "execution_count": 10,
   "id": "aa45a75e",
   "metadata": {},
   "outputs": [
    {
     "name": "stdout",
     "output_type": "stream",
     "text": [
      "min =  100 max =  200\n"
     ]
    }
   ],
   "source": [
    "min, max = min_max(100,200)\n",
    "print('min = ', min, 'max = ', max)"
   ]
  },
  {
   "cell_type": "code",
   "execution_count": 11,
   "id": "28793140",
   "metadata": {},
   "outputs": [
    {
     "name": "stdout",
     "output_type": "stream",
     "text": [
      "min =  200 max =  300\n"
     ]
    }
   ],
   "source": [
    "min, max = min_max(300,200)\n",
    "print('min = ', min, 'max = ', max)"
   ]
  },
  {
   "cell_type": "markdown",
   "id": "d2f4feac",
   "metadata": {},
   "source": [
    "# 덧셈"
   ]
  },
  {
   "cell_type": "code",
   "execution_count": 16,
   "id": "5fedb438",
   "metadata": {},
   "outputs": [],
   "source": [
    "\"\"\"\n",
    "n까지의 자연수의 합을 반환하는 함수\n",
    "\"\"\"\n",
    "def sum_to_n(n):\n",
    "    sum = 0\n",
    "    for i in range(n+1):   #range는 0부터  // n까지 하려면 ( )에 n+1  //n+1은 반드시 정수\n",
    "        sum += i\n",
    "    return sum             #return이나 for문 같은거 라인 통일 안그러면 값 달라짐;;"
   ]
  },
  {
   "cell_type": "code",
   "execution_count": 17,
   "id": "89cb6cf7",
   "metadata": {},
   "outputs": [
    {
     "data": {
      "text/plain": [
       "55"
      ]
     },
     "execution_count": 17,
     "metadata": {},
     "output_type": "execute_result"
    }
   ],
   "source": [
    "sum_to_n(10)"
   ]
  },
  {
   "cell_type": "code",
   "execution_count": 18,
   "id": "080304c9",
   "metadata": {},
   "outputs": [],
   "source": [
    "sum_to_n?  #DoxString의 설명 보기"
   ]
  },
  {
   "cell_type": "code",
   "execution_count": 19,
   "id": "70f36354",
   "metadata": {},
   "outputs": [],
   "source": [
    "sum_to_n?? #함수 코드 자체가 보임"
   ]
  },
  {
   "cell_type": "markdown",
   "id": "c9d7a8b6",
   "metadata": {},
   "source": [
    "# 에러"
   ]
  },
  {
   "cell_type": "code",
   "execution_count": 25,
   "id": "21e7f96c",
   "metadata": {},
   "outputs": [],
   "source": [
    "def sum_to_n(n):\n",
    "    \n",
    "    \"\"\"\n",
    "    n이 정수가 아니면 TypeError 발생\n",
    "    n이 음수이면 ValueError 발생\n",
    "    \"\"\"\n",
    "    \n",
    "    if type(n) is not int:\n",
    "        raise TypeError('n은 정수여야 함')\n",
    "    if n < 0:\n",
    "        raise ValueError('n은 0보다 커야함')\n",
    "    sum = 0\n",
    "    for i in range(n+1):  \n",
    "        sum += i\n",
    "    return sum"
   ]
  },
  {
   "cell_type": "code",
   "execution_count": 26,
   "id": "e8c2d43f",
   "metadata": {},
   "outputs": [
    {
     "ename": "TypeError",
     "evalue": "n은 정수여야 함",
     "output_type": "error",
     "traceback": [
      "\u001b[1;31m---------------------------------------------------------------------------\u001b[0m",
      "\u001b[1;31mTypeError\u001b[0m                                 Traceback (most recent call last)",
      "\u001b[1;32m<ipython-input-26-2f5ca87685cc>\u001b[0m in \u001b[0;36m<module>\u001b[1;34m\u001b[0m\n\u001b[1;32m----> 1\u001b[1;33m \u001b[0msum_to_n\u001b[0m\u001b[1;33m(\u001b[0m\u001b[1;36m5.5\u001b[0m\u001b[1;33m)\u001b[0m\u001b[1;33m\u001b[0m\u001b[1;33m\u001b[0m\u001b[0m\n\u001b[0m",
      "\u001b[1;32m<ipython-input-25-f71812ea09b9>\u001b[0m in \u001b[0;36msum_to_n\u001b[1;34m(n)\u001b[0m\n\u001b[0;32m      7\u001b[0m \u001b[1;33m\u001b[0m\u001b[0m\n\u001b[0;32m      8\u001b[0m     \u001b[1;32mif\u001b[0m \u001b[0mtype\u001b[0m\u001b[1;33m(\u001b[0m\u001b[0mn\u001b[0m\u001b[1;33m)\u001b[0m \u001b[1;32mis\u001b[0m \u001b[1;32mnot\u001b[0m \u001b[0mint\u001b[0m\u001b[1;33m:\u001b[0m\u001b[1;33m\u001b[0m\u001b[1;33m\u001b[0m\u001b[0m\n\u001b[1;32m----> 9\u001b[1;33m         \u001b[1;32mraise\u001b[0m \u001b[0mTypeError\u001b[0m\u001b[1;33m(\u001b[0m\u001b[1;34m'n은 정수여야 함'\u001b[0m\u001b[1;33m)\u001b[0m\u001b[1;33m\u001b[0m\u001b[1;33m\u001b[0m\u001b[0m\n\u001b[0m\u001b[0;32m     10\u001b[0m     \u001b[1;32mif\u001b[0m \u001b[0mn\u001b[0m \u001b[1;33m<\u001b[0m \u001b[1;36m0\u001b[0m\u001b[1;33m:\u001b[0m\u001b[1;33m\u001b[0m\u001b[1;33m\u001b[0m\u001b[0m\n\u001b[0;32m     11\u001b[0m         \u001b[1;32mraise\u001b[0m \u001b[0mValueError\u001b[0m\u001b[1;33m(\u001b[0m\u001b[1;34m'n은 0보다 커야함'\u001b[0m\u001b[1;33m)\u001b[0m\u001b[1;33m\u001b[0m\u001b[1;33m\u001b[0m\u001b[0m\n",
      "\u001b[1;31mTypeError\u001b[0m: n은 정수여야 함"
     ]
    }
   ],
   "source": [
    "sum_to_n(5.5)"
   ]
  },
  {
   "cell_type": "code",
   "execution_count": 27,
   "id": "6dc0f470",
   "metadata": {},
   "outputs": [
    {
     "ename": "ValueError",
     "evalue": "n은 0보다 커야함",
     "output_type": "error",
     "traceback": [
      "\u001b[1;31m---------------------------------------------------------------------------\u001b[0m",
      "\u001b[1;31mValueError\u001b[0m                                Traceback (most recent call last)",
      "\u001b[1;32m<ipython-input-27-dcbcd78a16f6>\u001b[0m in \u001b[0;36m<module>\u001b[1;34m\u001b[0m\n\u001b[1;32m----> 1\u001b[1;33m \u001b[0msum_to_n\u001b[0m\u001b[1;33m(\u001b[0m\u001b[1;33m-\u001b[0m\u001b[1;36m5\u001b[0m\u001b[1;33m)\u001b[0m\u001b[1;33m\u001b[0m\u001b[1;33m\u001b[0m\u001b[0m\n\u001b[0m",
      "\u001b[1;32m<ipython-input-25-f71812ea09b9>\u001b[0m in \u001b[0;36msum_to_n\u001b[1;34m(n)\u001b[0m\n\u001b[0;32m      9\u001b[0m         \u001b[1;32mraise\u001b[0m \u001b[0mTypeError\u001b[0m\u001b[1;33m(\u001b[0m\u001b[1;34m'n은 정수여야 함'\u001b[0m\u001b[1;33m)\u001b[0m\u001b[1;33m\u001b[0m\u001b[1;33m\u001b[0m\u001b[0m\n\u001b[0;32m     10\u001b[0m     \u001b[1;32mif\u001b[0m \u001b[0mn\u001b[0m \u001b[1;33m<\u001b[0m \u001b[1;36m0\u001b[0m\u001b[1;33m:\u001b[0m\u001b[1;33m\u001b[0m\u001b[1;33m\u001b[0m\u001b[0m\n\u001b[1;32m---> 11\u001b[1;33m         \u001b[1;32mraise\u001b[0m \u001b[0mValueError\u001b[0m\u001b[1;33m(\u001b[0m\u001b[1;34m'n은 0보다 커야함'\u001b[0m\u001b[1;33m)\u001b[0m\u001b[1;33m\u001b[0m\u001b[1;33m\u001b[0m\u001b[0m\n\u001b[0m\u001b[0;32m     12\u001b[0m     \u001b[0msum\u001b[0m \u001b[1;33m=\u001b[0m \u001b[1;36m0\u001b[0m\u001b[1;33m\u001b[0m\u001b[1;33m\u001b[0m\u001b[0m\n\u001b[0;32m     13\u001b[0m     \u001b[1;32mfor\u001b[0m \u001b[0mi\u001b[0m \u001b[1;32min\u001b[0m \u001b[0mrange\u001b[0m\u001b[1;33m(\u001b[0m\u001b[0mn\u001b[0m\u001b[1;33m+\u001b[0m\u001b[1;36m1\u001b[0m\u001b[1;33m)\u001b[0m\u001b[1;33m:\u001b[0m\u001b[1;33m\u001b[0m\u001b[1;33m\u001b[0m\u001b[0m\n",
      "\u001b[1;31mValueError\u001b[0m: n은 0보다 커야함"
     ]
    }
   ],
   "source": [
    "sum_to_n(-5)"
   ]
  },
  {
   "cell_type": "markdown",
   "id": "8eb8844b",
   "metadata": {},
   "source": [
    "# 함수"
   ]
  },
  {
   "cell_type": "code",
   "execution_count": 28,
   "id": "d9147ffd",
   "metadata": {},
   "outputs": [],
   "source": [
    "def sum_f(a):    #a는 리스트\n",
    "    sum = 0\n",
    "    for v in a:  #순환하는 a의 각각의 값은 v\n",
    "        sum += v\n",
    "    return sum"
   ]
  },
  {
   "cell_type": "code",
   "execution_count": 29,
   "id": "217dd4b6",
   "metadata": {},
   "outputs": [
    {
     "data": {
      "text/plain": [
       "11"
      ]
     },
     "execution_count": 29,
     "metadata": {},
     "output_type": "execute_result"
    }
   ],
   "source": [
    "my_list = [5,2,4]\n",
    "sum_f(my_list)"
   ]
  },
  {
   "cell_type": "code",
   "execution_count": 32,
   "id": "0e38ae2f",
   "metadata": {},
   "outputs": [],
   "source": [
    "\"\"\"\n",
    "자유롭게 함수 값을 더하기(제곱)\n",
    "--------------------------------------------\n",
    "시퀀스 a의 각 원소에 함수 f를 취한 값의 합\n",
    "--------------------------------------------\n",
    "파라미터\n",
    "a : sequence\n",
    "f : function \n",
    "\"\"\"\n",
    "def sum_f(a, f):  #a는 여러 개의 값의 컬렉션(시퀀스), f는 함수 => a라는 list의 각각의 값에 f를 적용하여 더하라.\n",
    "    sum = 0\n",
    "    for v in a:\n",
    "        sum += f(v)\n",
    "    return sum"
   ]
  },
  {
   "cell_type": "code",
   "execution_count": 33,
   "id": "d87245e6",
   "metadata": {},
   "outputs": [],
   "source": [
    "def sq(x): return x * x"
   ]
  },
  {
   "cell_type": "code",
   "execution_count": 34,
   "id": "2f815963",
   "metadata": {},
   "outputs": [
    {
     "data": {
      "text/plain": [
       "45"
      ]
     },
     "execution_count": 34,
     "metadata": {},
     "output_type": "execute_result"
    }
   ],
   "source": [
    "my_list = [5,2,4]\n",
    "sum_f(my_list, sq)"
   ]
  },
  {
   "cell_type": "code",
   "execution_count": 35,
   "id": "464698ea",
   "metadata": {},
   "outputs": [],
   "source": [
    "import math"
   ]
  },
  {
   "cell_type": "code",
   "execution_count": 36,
   "id": "201343e3",
   "metadata": {},
   "outputs": [
    {
     "data": {
      "text/plain": [
       "5.650281539872885"
      ]
     },
     "execution_count": 36,
     "metadata": {},
     "output_type": "execute_result"
    }
   ],
   "source": [
    "sum_f(my_list, math.sqrt)"
   ]
  },
  {
   "cell_type": "markdown",
   "id": "26a972a3",
   "metadata": {},
   "source": [
    "# 람다 함수"
   ]
  },
  {
   "cell_type": "code",
   "execution_count": 37,
   "id": "b1c18489",
   "metadata": {},
   "outputs": [
    {
     "data": {
      "text/plain": [
       "45"
      ]
     },
     "execution_count": 37,
     "metadata": {},
     "output_type": "execute_result"
    }
   ],
   "source": [
    "sum_f(my_list, lambda x: x*x)"
   ]
  },
  {
   "cell_type": "code",
   "execution_count": 38,
   "id": "8211b148",
   "metadata": {},
   "outputs": [
    {
     "data": {
      "text/plain": [
       "1"
      ]
     },
     "execution_count": 38,
     "metadata": {},
     "output_type": "execute_result"
    }
   ],
   "source": [
    "sum_f(my_list, lambda x: x % 2)"
   ]
  },
  {
   "cell_type": "code",
   "execution_count": 39,
   "id": "7ecad4b4",
   "metadata": {},
   "outputs": [],
   "source": [
    "\"\"\"\n",
    "파라미터\n",
    "a : sequence\n",
    "f : function \n",
    "default : 항등함수\n",
    "\"\"\"\n",
    "def sum_f(a, f = lambda x: x):  #v값을 더한다\n",
    "    sum = 0\n",
    "    for v in a:\n",
    "        sum += f(v)\n",
    "    return sum"
   ]
  },
  {
   "cell_type": "code",
   "execution_count": 40,
   "id": "7b48d0b7",
   "metadata": {},
   "outputs": [
    {
     "data": {
      "text/plain": [
       "11"
      ]
     },
     "execution_count": 40,
     "metadata": {},
     "output_type": "execute_result"
    }
   ],
   "source": [
    "sum_f(my_list)"
   ]
  },
  {
   "cell_type": "code",
   "execution_count": 41,
   "id": "ec63f756",
   "metadata": {},
   "outputs": [],
   "source": [
    "s = ['tiger', 'giraffe', 'cat', 'dog']"
   ]
  },
  {
   "cell_type": "code",
   "execution_count": 42,
   "id": "c07fdec1",
   "metadata": {},
   "outputs": [],
   "source": [
    "s.sort()  #s가 String 객체인데 String 객체는 sort라는 메소드를 지원함."
   ]
  },
  {
   "cell_type": "code",
   "execution_count": 43,
   "id": "7ab78a8f",
   "metadata": {},
   "outputs": [
    {
     "data": {
      "text/plain": [
       "['cat', 'dog', 'giraffe', 'tiger']"
      ]
     },
     "execution_count": 43,
     "metadata": {},
     "output_type": "execute_result"
    }
   ],
   "source": [
    "s"
   ]
  },
  {
   "cell_type": "code",
   "execution_count": 44,
   "id": "80ab3033",
   "metadata": {},
   "outputs": [],
   "source": [
    "s.sort(key=lambda x: len(x))  #문자열의 길이대로 정렬"
   ]
  },
  {
   "cell_type": "code",
   "execution_count": 45,
   "id": "8b80a539",
   "metadata": {},
   "outputs": [
    {
     "data": {
      "text/plain": [
       "['cat', 'dog', 'tiger', 'giraffe']"
      ]
     },
     "execution_count": 45,
     "metadata": {},
     "output_type": "execute_result"
    }
   ],
   "source": [
    "s"
   ]
  },
  {
   "cell_type": "code",
   "execution_count": null,
   "id": "5c9df42a",
   "metadata": {},
   "outputs": [],
   "source": []
  }
 ],
 "metadata": {
  "kernelspec": {
   "display_name": "Python 3",
   "language": "python",
   "name": "python3"
  },
  "language_info": {
   "codemirror_mode": {
    "name": "ipython",
    "version": 3
   },
   "file_extension": ".py",
   "mimetype": "text/x-python",
   "name": "python",
   "nbconvert_exporter": "python",
   "pygments_lexer": "ipython3",
   "version": "3.8.8"
  }
 },
 "nbformat": 4,
 "nbformat_minor": 5
}
