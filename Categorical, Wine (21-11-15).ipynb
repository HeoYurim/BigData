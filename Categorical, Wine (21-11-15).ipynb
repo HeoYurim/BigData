{
 "cells": [
  {
   "cell_type": "code",
   "execution_count": 5,
   "id": "ed7d6a9c",
   "metadata": {},
   "outputs": [],
   "source": [
    "import numpy as np\n",
    "import pandas as pd\n",
    "import matplotlib.pyplot as plt"
   ]
  },
  {
   "cell_type": "code",
   "execution_count": 6,
   "id": "be4d0173",
   "metadata": {},
   "outputs": [],
   "source": [
    "df = pd.DataFrame([ ['green', 'L', 10.1, 'yes'], ['green', 'M', 13.5, 'no'], ['red', 'XL', 15.3, 'yes'], ['blue', 'S', 12.7, 'yes']\n",
    "])\n",
    "df.columns = ['color', 'size', 'price', 'label']"
   ]
  },
  {
   "cell_type": "code",
   "execution_count": 7,
   "id": "88888f1d",
   "metadata": {},
   "outputs": [
    {
     "data": {
      "text/html": [
       "<div>\n",
       "<style scoped>\n",
       "    .dataframe tbody tr th:only-of-type {\n",
       "        vertical-align: middle;\n",
       "    }\n",
       "\n",
       "    .dataframe tbody tr th {\n",
       "        vertical-align: top;\n",
       "    }\n",
       "\n",
       "    .dataframe thead th {\n",
       "        text-align: right;\n",
       "    }\n",
       "</style>\n",
       "<table border=\"1\" class=\"dataframe\">\n",
       "  <thead>\n",
       "    <tr style=\"text-align: right;\">\n",
       "      <th></th>\n",
       "      <th>color</th>\n",
       "      <th>size</th>\n",
       "      <th>price</th>\n",
       "      <th>label</th>\n",
       "    </tr>\n",
       "  </thead>\n",
       "  <tbody>\n",
       "    <tr>\n",
       "      <th>0</th>\n",
       "      <td>green</td>\n",
       "      <td>L</td>\n",
       "      <td>10.1</td>\n",
       "      <td>yes</td>\n",
       "    </tr>\n",
       "    <tr>\n",
       "      <th>1</th>\n",
       "      <td>green</td>\n",
       "      <td>M</td>\n",
       "      <td>13.5</td>\n",
       "      <td>no</td>\n",
       "    </tr>\n",
       "    <tr>\n",
       "      <th>2</th>\n",
       "      <td>red</td>\n",
       "      <td>XL</td>\n",
       "      <td>15.3</td>\n",
       "      <td>yes</td>\n",
       "    </tr>\n",
       "    <tr>\n",
       "      <th>3</th>\n",
       "      <td>blue</td>\n",
       "      <td>S</td>\n",
       "      <td>12.7</td>\n",
       "      <td>yes</td>\n",
       "    </tr>\n",
       "  </tbody>\n",
       "</table>\n",
       "</div>"
      ],
      "text/plain": [
       "   color size  price label\n",
       "0  green    L   10.1   yes\n",
       "1  green    M   13.5    no\n",
       "2    red   XL   15.3   yes\n",
       "3   blue    S   12.7   yes"
      ]
     },
     "execution_count": 7,
     "metadata": {},
     "output_type": "execute_result"
    }
   ],
   "source": [
    "df"
   ]
  },
  {
   "cell_type": "code",
   "execution_count": 8,
   "id": "9d9f7506",
   "metadata": {},
   "outputs": [],
   "source": [
    "y = df['label'] # Pandas Series 객체"
   ]
  },
  {
   "cell_type": "code",
   "execution_count": 9,
   "id": "c7d6c673",
   "metadata": {},
   "outputs": [],
   "source": [
    "y1 = np.where(y =='no',0,1)"
   ]
  },
  {
   "cell_type": "code",
   "execution_count": 10,
   "id": "d2d8734e",
   "metadata": {},
   "outputs": [
    {
     "data": {
      "text/plain": [
       "array([1, 0, 1, 1])"
      ]
     },
     "execution_count": 10,
     "metadata": {},
     "output_type": "execute_result"
    }
   ],
   "source": [
    "y1"
   ]
  },
  {
   "cell_type": "code",
   "execution_count": 13,
   "id": "f9d5b031",
   "metadata": {},
   "outputs": [],
   "source": [
    "d = {'no':0, 'yes':1}\n",
    "y2 = y.map(d).to_numpy()"
   ]
  },
  {
   "cell_type": "code",
   "execution_count": 14,
   "id": "6d4822ec",
   "metadata": {},
   "outputs": [
    {
     "data": {
      "text/plain": [
       "array([1, 0, 1, 1], dtype=int64)"
      ]
     },
     "execution_count": 14,
     "metadata": {},
     "output_type": "execute_result"
    }
   ],
   "source": [
    "y2"
   ]
  },
  {
   "cell_type": "code",
   "execution_count": 15,
   "id": "f3785577",
   "metadata": {},
   "outputs": [],
   "source": [
    "from sklearn.preprocessing import LabelEncoder"
   ]
  },
  {
   "cell_type": "code",
   "execution_count": 17,
   "id": "d00aa4f4",
   "metadata": {},
   "outputs": [
    {
     "data": {
      "text/plain": [
       "LabelEncoder()"
      ]
     },
     "execution_count": 17,
     "metadata": {},
     "output_type": "execute_result"
    }
   ],
   "source": [
    "encoder = LabelEncoder()\n",
    "encoder.fit(y)"
   ]
  },
  {
   "cell_type": "code",
   "execution_count": 18,
   "id": "065afb05",
   "metadata": {},
   "outputs": [
    {
     "data": {
      "text/plain": [
       "array(['no', 'yes'], dtype=object)"
      ]
     },
     "execution_count": 18,
     "metadata": {},
     "output_type": "execute_result"
    }
   ],
   "source": [
    "encoder.classes_"
   ]
  },
  {
   "cell_type": "code",
   "execution_count": 19,
   "id": "87bd25d5",
   "metadata": {},
   "outputs": [],
   "source": [
    "y3 = encoder.transform(y)"
   ]
  },
  {
   "cell_type": "code",
   "execution_count": 20,
   "id": "b9865403",
   "metadata": {},
   "outputs": [
    {
     "data": {
      "text/plain": [
       "array([1, 0, 1, 1])"
      ]
     },
     "execution_count": 20,
     "metadata": {},
     "output_type": "execute_result"
    }
   ],
   "source": [
    "y3"
   ]
  },
  {
   "cell_type": "markdown",
   "id": "b8379e12",
   "metadata": {},
   "source": [
    "## 순서가 있는 특성 매핑 : size 변환"
   ]
  },
  {
   "cell_type": "code",
   "execution_count": 22,
   "id": "ee686bb6",
   "metadata": {},
   "outputs": [
    {
     "data": {
      "text/html": [
       "<div>\n",
       "<style scoped>\n",
       "    .dataframe tbody tr th:only-of-type {\n",
       "        vertical-align: middle;\n",
       "    }\n",
       "\n",
       "    .dataframe tbody tr th {\n",
       "        vertical-align: top;\n",
       "    }\n",
       "\n",
       "    .dataframe thead th {\n",
       "        text-align: right;\n",
       "    }\n",
       "</style>\n",
       "<table border=\"1\" class=\"dataframe\">\n",
       "  <thead>\n",
       "    <tr style=\"text-align: right;\">\n",
       "      <th></th>\n",
       "      <th>color</th>\n",
       "      <th>size</th>\n",
       "      <th>price</th>\n",
       "    </tr>\n",
       "  </thead>\n",
       "  <tbody>\n",
       "    <tr>\n",
       "      <th>0</th>\n",
       "      <td>green</td>\n",
       "      <td>L</td>\n",
       "      <td>10.1</td>\n",
       "    </tr>\n",
       "    <tr>\n",
       "      <th>1</th>\n",
       "      <td>green</td>\n",
       "      <td>M</td>\n",
       "      <td>13.5</td>\n",
       "    </tr>\n",
       "    <tr>\n",
       "      <th>2</th>\n",
       "      <td>red</td>\n",
       "      <td>XL</td>\n",
       "      <td>15.3</td>\n",
       "    </tr>\n",
       "    <tr>\n",
       "      <th>3</th>\n",
       "      <td>blue</td>\n",
       "      <td>S</td>\n",
       "      <td>12.7</td>\n",
       "    </tr>\n",
       "  </tbody>\n",
       "</table>\n",
       "</div>"
      ],
      "text/plain": [
       "   color size  price\n",
       "0  green    L   10.1\n",
       "1  green    M   13.5\n",
       "2    red   XL   15.3\n",
       "3   blue    S   12.7"
      ]
     },
     "execution_count": 22,
     "metadata": {},
     "output_type": "execute_result"
    }
   ],
   "source": [
    "X = df.drop('label',axis = 1)\n",
    "X"
   ]
  },
  {
   "cell_type": "code",
   "execution_count": 23,
   "id": "afd402f8",
   "metadata": {},
   "outputs": [],
   "source": [
    "size_mapping = {'XS':1, 'S':1, 'M':2, 'L':3,'XL':4}\n",
    "X['size'] = X['size'].map(size_mapping)"
   ]
  },
  {
   "cell_type": "code",
   "execution_count": 24,
   "id": "a3740161",
   "metadata": {},
   "outputs": [
    {
     "data": {
      "text/html": [
       "<div>\n",
       "<style scoped>\n",
       "    .dataframe tbody tr th:only-of-type {\n",
       "        vertical-align: middle;\n",
       "    }\n",
       "\n",
       "    .dataframe tbody tr th {\n",
       "        vertical-align: top;\n",
       "    }\n",
       "\n",
       "    .dataframe thead th {\n",
       "        text-align: right;\n",
       "    }\n",
       "</style>\n",
       "<table border=\"1\" class=\"dataframe\">\n",
       "  <thead>\n",
       "    <tr style=\"text-align: right;\">\n",
       "      <th></th>\n",
       "      <th>color</th>\n",
       "      <th>size</th>\n",
       "      <th>price</th>\n",
       "    </tr>\n",
       "  </thead>\n",
       "  <tbody>\n",
       "    <tr>\n",
       "      <th>0</th>\n",
       "      <td>green</td>\n",
       "      <td>3</td>\n",
       "      <td>10.1</td>\n",
       "    </tr>\n",
       "    <tr>\n",
       "      <th>1</th>\n",
       "      <td>green</td>\n",
       "      <td>2</td>\n",
       "      <td>13.5</td>\n",
       "    </tr>\n",
       "    <tr>\n",
       "      <th>2</th>\n",
       "      <td>red</td>\n",
       "      <td>4</td>\n",
       "      <td>15.3</td>\n",
       "    </tr>\n",
       "    <tr>\n",
       "      <th>3</th>\n",
       "      <td>blue</td>\n",
       "      <td>1</td>\n",
       "      <td>12.7</td>\n",
       "    </tr>\n",
       "  </tbody>\n",
       "</table>\n",
       "</div>"
      ],
      "text/plain": [
       "   color  size  price\n",
       "0  green     3   10.1\n",
       "1  green     2   13.5\n",
       "2    red     4   15.3\n",
       "3   blue     1   12.7"
      ]
     },
     "execution_count": 24,
     "metadata": {},
     "output_type": "execute_result"
    }
   ],
   "source": [
    "X"
   ]
  },
  {
   "cell_type": "markdown",
   "id": "8a400123",
   "metadata": {},
   "source": [
    "## 순서가 없는(명목형) 특성에 대한 원-핫 인코딩"
   ]
  },
  {
   "cell_type": "code",
   "execution_count": 27,
   "id": "9a71c197",
   "metadata": {},
   "outputs": [],
   "source": [
    "X_dummy = pd.get_dummies(X)"
   ]
  },
  {
   "cell_type": "code",
   "execution_count": 28,
   "id": "a27c038b",
   "metadata": {},
   "outputs": [
    {
     "data": {
      "text/html": [
       "<div>\n",
       "<style scoped>\n",
       "    .dataframe tbody tr th:only-of-type {\n",
       "        vertical-align: middle;\n",
       "    }\n",
       "\n",
       "    .dataframe tbody tr th {\n",
       "        vertical-align: top;\n",
       "    }\n",
       "\n",
       "    .dataframe thead th {\n",
       "        text-align: right;\n",
       "    }\n",
       "</style>\n",
       "<table border=\"1\" class=\"dataframe\">\n",
       "  <thead>\n",
       "    <tr style=\"text-align: right;\">\n",
       "      <th></th>\n",
       "      <th>size</th>\n",
       "      <th>price</th>\n",
       "      <th>color_blue</th>\n",
       "      <th>color_green</th>\n",
       "      <th>color_red</th>\n",
       "    </tr>\n",
       "  </thead>\n",
       "  <tbody>\n",
       "    <tr>\n",
       "      <th>0</th>\n",
       "      <td>3</td>\n",
       "      <td>10.1</td>\n",
       "      <td>0</td>\n",
       "      <td>1</td>\n",
       "      <td>0</td>\n",
       "    </tr>\n",
       "    <tr>\n",
       "      <th>1</th>\n",
       "      <td>2</td>\n",
       "      <td>13.5</td>\n",
       "      <td>0</td>\n",
       "      <td>1</td>\n",
       "      <td>0</td>\n",
       "    </tr>\n",
       "    <tr>\n",
       "      <th>2</th>\n",
       "      <td>4</td>\n",
       "      <td>15.3</td>\n",
       "      <td>0</td>\n",
       "      <td>0</td>\n",
       "      <td>1</td>\n",
       "    </tr>\n",
       "    <tr>\n",
       "      <th>3</th>\n",
       "      <td>1</td>\n",
       "      <td>12.7</td>\n",
       "      <td>1</td>\n",
       "      <td>0</td>\n",
       "      <td>0</td>\n",
       "    </tr>\n",
       "  </tbody>\n",
       "</table>\n",
       "</div>"
      ],
      "text/plain": [
       "   size  price  color_blue  color_green  color_red\n",
       "0     3   10.1           0            1          0\n",
       "1     2   13.5           0            1          0\n",
       "2     4   15.3           0            0          1\n",
       "3     1   12.7           1            0          0"
      ]
     },
     "execution_count": 28,
     "metadata": {},
     "output_type": "execute_result"
    }
   ],
   "source": [
    "X_dummy"
   ]
  },
  {
   "cell_type": "markdown",
   "id": "d22ba796",
   "metadata": {},
   "source": [
    "## 와인 데이터"
   ]
  },
  {
   "cell_type": "code",
   "execution_count": 29,
   "id": "00d15332",
   "metadata": {},
   "outputs": [],
   "source": [
    "path = 'https://archive.ics.uci.edu/ml/machine-learning-databases/wine/wine.data'\n",
    "wine = pd.read_csv(path, header=None)"
   ]
  },
  {
   "cell_type": "code",
   "execution_count": 30,
   "id": "2d492cd3",
   "metadata": {},
   "outputs": [
    {
     "data": {
      "text/html": [
       "<div>\n",
       "<style scoped>\n",
       "    .dataframe tbody tr th:only-of-type {\n",
       "        vertical-align: middle;\n",
       "    }\n",
       "\n",
       "    .dataframe tbody tr th {\n",
       "        vertical-align: top;\n",
       "    }\n",
       "\n",
       "    .dataframe thead th {\n",
       "        text-align: right;\n",
       "    }\n",
       "</style>\n",
       "<table border=\"1\" class=\"dataframe\">\n",
       "  <thead>\n",
       "    <tr style=\"text-align: right;\">\n",
       "      <th></th>\n",
       "      <th>0</th>\n",
       "      <th>1</th>\n",
       "      <th>2</th>\n",
       "      <th>3</th>\n",
       "      <th>4</th>\n",
       "      <th>5</th>\n",
       "      <th>6</th>\n",
       "      <th>7</th>\n",
       "      <th>8</th>\n",
       "      <th>9</th>\n",
       "      <th>10</th>\n",
       "      <th>11</th>\n",
       "      <th>12</th>\n",
       "      <th>13</th>\n",
       "    </tr>\n",
       "  </thead>\n",
       "  <tbody>\n",
       "    <tr>\n",
       "      <th>0</th>\n",
       "      <td>1</td>\n",
       "      <td>14.23</td>\n",
       "      <td>1.71</td>\n",
       "      <td>2.43</td>\n",
       "      <td>15.6</td>\n",
       "      <td>127</td>\n",
       "      <td>2.80</td>\n",
       "      <td>3.06</td>\n",
       "      <td>0.28</td>\n",
       "      <td>2.29</td>\n",
       "      <td>5.64</td>\n",
       "      <td>1.04</td>\n",
       "      <td>3.92</td>\n",
       "      <td>1065</td>\n",
       "    </tr>\n",
       "    <tr>\n",
       "      <th>1</th>\n",
       "      <td>1</td>\n",
       "      <td>13.20</td>\n",
       "      <td>1.78</td>\n",
       "      <td>2.14</td>\n",
       "      <td>11.2</td>\n",
       "      <td>100</td>\n",
       "      <td>2.65</td>\n",
       "      <td>2.76</td>\n",
       "      <td>0.26</td>\n",
       "      <td>1.28</td>\n",
       "      <td>4.38</td>\n",
       "      <td>1.05</td>\n",
       "      <td>3.40</td>\n",
       "      <td>1050</td>\n",
       "    </tr>\n",
       "    <tr>\n",
       "      <th>2</th>\n",
       "      <td>1</td>\n",
       "      <td>13.16</td>\n",
       "      <td>2.36</td>\n",
       "      <td>2.67</td>\n",
       "      <td>18.6</td>\n",
       "      <td>101</td>\n",
       "      <td>2.80</td>\n",
       "      <td>3.24</td>\n",
       "      <td>0.30</td>\n",
       "      <td>2.81</td>\n",
       "      <td>5.68</td>\n",
       "      <td>1.03</td>\n",
       "      <td>3.17</td>\n",
       "      <td>1185</td>\n",
       "    </tr>\n",
       "    <tr>\n",
       "      <th>3</th>\n",
       "      <td>1</td>\n",
       "      <td>14.37</td>\n",
       "      <td>1.95</td>\n",
       "      <td>2.50</td>\n",
       "      <td>16.8</td>\n",
       "      <td>113</td>\n",
       "      <td>3.85</td>\n",
       "      <td>3.49</td>\n",
       "      <td>0.24</td>\n",
       "      <td>2.18</td>\n",
       "      <td>7.80</td>\n",
       "      <td>0.86</td>\n",
       "      <td>3.45</td>\n",
       "      <td>1480</td>\n",
       "    </tr>\n",
       "    <tr>\n",
       "      <th>4</th>\n",
       "      <td>1</td>\n",
       "      <td>13.24</td>\n",
       "      <td>2.59</td>\n",
       "      <td>2.87</td>\n",
       "      <td>21.0</td>\n",
       "      <td>118</td>\n",
       "      <td>2.80</td>\n",
       "      <td>2.69</td>\n",
       "      <td>0.39</td>\n",
       "      <td>1.82</td>\n",
       "      <td>4.32</td>\n",
       "      <td>1.04</td>\n",
       "      <td>2.93</td>\n",
       "      <td>735</td>\n",
       "    </tr>\n",
       "    <tr>\n",
       "      <th>...</th>\n",
       "      <td>...</td>\n",
       "      <td>...</td>\n",
       "      <td>...</td>\n",
       "      <td>...</td>\n",
       "      <td>...</td>\n",
       "      <td>...</td>\n",
       "      <td>...</td>\n",
       "      <td>...</td>\n",
       "      <td>...</td>\n",
       "      <td>...</td>\n",
       "      <td>...</td>\n",
       "      <td>...</td>\n",
       "      <td>...</td>\n",
       "      <td>...</td>\n",
       "    </tr>\n",
       "    <tr>\n",
       "      <th>173</th>\n",
       "      <td>3</td>\n",
       "      <td>13.71</td>\n",
       "      <td>5.65</td>\n",
       "      <td>2.45</td>\n",
       "      <td>20.5</td>\n",
       "      <td>95</td>\n",
       "      <td>1.68</td>\n",
       "      <td>0.61</td>\n",
       "      <td>0.52</td>\n",
       "      <td>1.06</td>\n",
       "      <td>7.70</td>\n",
       "      <td>0.64</td>\n",
       "      <td>1.74</td>\n",
       "      <td>740</td>\n",
       "    </tr>\n",
       "    <tr>\n",
       "      <th>174</th>\n",
       "      <td>3</td>\n",
       "      <td>13.40</td>\n",
       "      <td>3.91</td>\n",
       "      <td>2.48</td>\n",
       "      <td>23.0</td>\n",
       "      <td>102</td>\n",
       "      <td>1.80</td>\n",
       "      <td>0.75</td>\n",
       "      <td>0.43</td>\n",
       "      <td>1.41</td>\n",
       "      <td>7.30</td>\n",
       "      <td>0.70</td>\n",
       "      <td>1.56</td>\n",
       "      <td>750</td>\n",
       "    </tr>\n",
       "    <tr>\n",
       "      <th>175</th>\n",
       "      <td>3</td>\n",
       "      <td>13.27</td>\n",
       "      <td>4.28</td>\n",
       "      <td>2.26</td>\n",
       "      <td>20.0</td>\n",
       "      <td>120</td>\n",
       "      <td>1.59</td>\n",
       "      <td>0.69</td>\n",
       "      <td>0.43</td>\n",
       "      <td>1.35</td>\n",
       "      <td>10.20</td>\n",
       "      <td>0.59</td>\n",
       "      <td>1.56</td>\n",
       "      <td>835</td>\n",
       "    </tr>\n",
       "    <tr>\n",
       "      <th>176</th>\n",
       "      <td>3</td>\n",
       "      <td>13.17</td>\n",
       "      <td>2.59</td>\n",
       "      <td>2.37</td>\n",
       "      <td>20.0</td>\n",
       "      <td>120</td>\n",
       "      <td>1.65</td>\n",
       "      <td>0.68</td>\n",
       "      <td>0.53</td>\n",
       "      <td>1.46</td>\n",
       "      <td>9.30</td>\n",
       "      <td>0.60</td>\n",
       "      <td>1.62</td>\n",
       "      <td>840</td>\n",
       "    </tr>\n",
       "    <tr>\n",
       "      <th>177</th>\n",
       "      <td>3</td>\n",
       "      <td>14.13</td>\n",
       "      <td>4.10</td>\n",
       "      <td>2.74</td>\n",
       "      <td>24.5</td>\n",
       "      <td>96</td>\n",
       "      <td>2.05</td>\n",
       "      <td>0.76</td>\n",
       "      <td>0.56</td>\n",
       "      <td>1.35</td>\n",
       "      <td>9.20</td>\n",
       "      <td>0.61</td>\n",
       "      <td>1.60</td>\n",
       "      <td>560</td>\n",
       "    </tr>\n",
       "  </tbody>\n",
       "</table>\n",
       "<p>178 rows × 14 columns</p>\n",
       "</div>"
      ],
      "text/plain": [
       "     0      1     2     3     4    5     6     7     8     9      10    11  \\\n",
       "0     1  14.23  1.71  2.43  15.6  127  2.80  3.06  0.28  2.29   5.64  1.04   \n",
       "1     1  13.20  1.78  2.14  11.2  100  2.65  2.76  0.26  1.28   4.38  1.05   \n",
       "2     1  13.16  2.36  2.67  18.6  101  2.80  3.24  0.30  2.81   5.68  1.03   \n",
       "3     1  14.37  1.95  2.50  16.8  113  3.85  3.49  0.24  2.18   7.80  0.86   \n",
       "4     1  13.24  2.59  2.87  21.0  118  2.80  2.69  0.39  1.82   4.32  1.04   \n",
       "..   ..    ...   ...   ...   ...  ...   ...   ...   ...   ...    ...   ...   \n",
       "173   3  13.71  5.65  2.45  20.5   95  1.68  0.61  0.52  1.06   7.70  0.64   \n",
       "174   3  13.40  3.91  2.48  23.0  102  1.80  0.75  0.43  1.41   7.30  0.70   \n",
       "175   3  13.27  4.28  2.26  20.0  120  1.59  0.69  0.43  1.35  10.20  0.59   \n",
       "176   3  13.17  2.59  2.37  20.0  120  1.65  0.68  0.53  1.46   9.30  0.60   \n",
       "177   3  14.13  4.10  2.74  24.5   96  2.05  0.76  0.56  1.35   9.20  0.61   \n",
       "\n",
       "       12    13  \n",
       "0    3.92  1065  \n",
       "1    3.40  1050  \n",
       "2    3.17  1185  \n",
       "3    3.45  1480  \n",
       "4    2.93   735  \n",
       "..    ...   ...  \n",
       "173  1.74   740  \n",
       "174  1.56   750  \n",
       "175  1.56   835  \n",
       "176  1.62   840  \n",
       "177  1.60   560  \n",
       "\n",
       "[178 rows x 14 columns]"
      ]
     },
     "execution_count": 30,
     "metadata": {},
     "output_type": "execute_result"
    }
   ],
   "source": [
    "wine"
   ]
  },
  {
   "cell_type": "code",
   "execution_count": 31,
   "id": "10572605",
   "metadata": {},
   "outputs": [],
   "source": [
    "y = wine.iloc[:,0].to_numpy()"
   ]
  },
  {
   "cell_type": "code",
   "execution_count": 32,
   "id": "64dc8598",
   "metadata": {},
   "outputs": [
    {
     "data": {
      "text/plain": [
       "array([1, 1, 1, 1, 1, 1, 1, 1, 1, 1, 1, 1, 1, 1, 1, 1, 1, 1, 1, 1, 1, 1,\n",
       "       1, 1, 1, 1, 1, 1, 1, 1, 1, 1, 1, 1, 1, 1, 1, 1, 1, 1, 1, 1, 1, 1,\n",
       "       1, 1, 1, 1, 1, 1, 1, 1, 1, 1, 1, 1, 1, 1, 1, 2, 2, 2, 2, 2, 2, 2,\n",
       "       2, 2, 2, 2, 2, 2, 2, 2, 2, 2, 2, 2, 2, 2, 2, 2, 2, 2, 2, 2, 2, 2,\n",
       "       2, 2, 2, 2, 2, 2, 2, 2, 2, 2, 2, 2, 2, 2, 2, 2, 2, 2, 2, 2, 2, 2,\n",
       "       2, 2, 2, 2, 2, 2, 2, 2, 2, 2, 2, 2, 2, 2, 2, 2, 2, 2, 2, 2, 3, 3,\n",
       "       3, 3, 3, 3, 3, 3, 3, 3, 3, 3, 3, 3, 3, 3, 3, 3, 3, 3, 3, 3, 3, 3,\n",
       "       3, 3, 3, 3, 3, 3, 3, 3, 3, 3, 3, 3, 3, 3, 3, 3, 3, 3, 3, 3, 3, 3,\n",
       "       3, 3], dtype=int64)"
      ]
     },
     "execution_count": 32,
     "metadata": {},
     "output_type": "execute_result"
    }
   ],
   "source": [
    "y"
   ]
  },
  {
   "cell_type": "code",
   "execution_count": 34,
   "id": "bfb9ec87",
   "metadata": {},
   "outputs": [
    {
     "data": {
      "text/plain": [
       "array([[1.423e+01, 1.710e+00, 2.430e+00, ..., 1.040e+00, 3.920e+00,\n",
       "        1.065e+03],\n",
       "       [1.320e+01, 1.780e+00, 2.140e+00, ..., 1.050e+00, 3.400e+00,\n",
       "        1.050e+03],\n",
       "       [1.316e+01, 2.360e+00, 2.670e+00, ..., 1.030e+00, 3.170e+00,\n",
       "        1.185e+03],\n",
       "       ...,\n",
       "       [1.327e+01, 4.280e+00, 2.260e+00, ..., 5.900e-01, 1.560e+00,\n",
       "        8.350e+02],\n",
       "       [1.317e+01, 2.590e+00, 2.370e+00, ..., 6.000e-01, 1.620e+00,\n",
       "        8.400e+02],\n",
       "       [1.413e+01, 4.100e+00, 2.740e+00, ..., 6.100e-01, 1.600e+00,\n",
       "        5.600e+02]])"
      ]
     },
     "execution_count": 34,
     "metadata": {},
     "output_type": "execute_result"
    }
   ],
   "source": [
    "X = wine.iloc[:,1:].to_numpy()\n",
    "X"
   ]
  },
  {
   "cell_type": "code",
   "execution_count": 36,
   "id": "77d21215",
   "metadata": {},
   "outputs": [],
   "source": [
    "from sklearn.model_selection import train_test_split"
   ]
  },
  {
   "cell_type": "code",
   "execution_count": 38,
   "id": "2709b492",
   "metadata": {},
   "outputs": [],
   "source": [
    "X_train, X_test, y_train, y_test = train_test_split(X, y, test_size=0.3, random_state=0, stratify=y)"
   ]
  },
  {
   "cell_type": "code",
   "execution_count": 39,
   "id": "a83c9733",
   "metadata": {},
   "outputs": [],
   "source": [
    "from sklearn.preprocessing import StandardScaler"
   ]
  },
  {
   "cell_type": "code",
   "execution_count": 40,
   "id": "16a8eb13",
   "metadata": {},
   "outputs": [],
   "source": [
    "scaler = StandardScaler()\n",
    "scaler.fit(X_train)\n",
    "X_train_std = scaler.transform(X_train)\n",
    "\n",
    "# or \n",
    "# scaler = StandardScaler()\n",
    "# X_train_std = scaler.fit_transform(X_train)"
   ]
  },
  {
   "cell_type": "code",
   "execution_count": 42,
   "id": "88c939d2",
   "metadata": {},
   "outputs": [
    {
     "data": {
      "text/html": [
       "<div>\n",
       "<style scoped>\n",
       "    .dataframe tbody tr th:only-of-type {\n",
       "        vertical-align: middle;\n",
       "    }\n",
       "\n",
       "    .dataframe tbody tr th {\n",
       "        vertical-align: top;\n",
       "    }\n",
       "\n",
       "    .dataframe thead th {\n",
       "        text-align: right;\n",
       "    }\n",
       "</style>\n",
       "<table border=\"1\" class=\"dataframe\">\n",
       "  <thead>\n",
       "    <tr style=\"text-align: right;\">\n",
       "      <th></th>\n",
       "      <th>0</th>\n",
       "      <th>1</th>\n",
       "      <th>2</th>\n",
       "      <th>3</th>\n",
       "      <th>4</th>\n",
       "      <th>5</th>\n",
       "      <th>6</th>\n",
       "      <th>7</th>\n",
       "      <th>8</th>\n",
       "      <th>9</th>\n",
       "      <th>10</th>\n",
       "      <th>11</th>\n",
       "      <th>12</th>\n",
       "    </tr>\n",
       "  </thead>\n",
       "  <tbody>\n",
       "    <tr>\n",
       "      <th>count</th>\n",
       "      <td>1.240000e+02</td>\n",
       "      <td>1.240000e+02</td>\n",
       "      <td>1.240000e+02</td>\n",
       "      <td>1.240000e+02</td>\n",
       "      <td>1.240000e+02</td>\n",
       "      <td>1.240000e+02</td>\n",
       "      <td>1.240000e+02</td>\n",
       "      <td>1.240000e+02</td>\n",
       "      <td>1.240000e+02</td>\n",
       "      <td>1.240000e+02</td>\n",
       "      <td>1.240000e+02</td>\n",
       "      <td>1.240000e+02</td>\n",
       "      <td>1.240000e+02</td>\n",
       "    </tr>\n",
       "    <tr>\n",
       "      <th>mean</th>\n",
       "      <td>6.890098e-15</td>\n",
       "      <td>1.683241e-16</td>\n",
       "      <td>3.799660e-15</td>\n",
       "      <td>2.856138e-16</td>\n",
       "      <td>-3.178461e-16</td>\n",
       "      <td>1.662649e-15</td>\n",
       "      <td>1.598184e-16</td>\n",
       "      <td>-1.198862e-15</td>\n",
       "      <td>1.888274e-15</td>\n",
       "      <td>-1.615195e-15</td>\n",
       "      <td>-5.783904e-16</td>\n",
       "      <td>8.631089e-16</td>\n",
       "      <td>-1.334058e-16</td>\n",
       "    </tr>\n",
       "    <tr>\n",
       "      <th>std</th>\n",
       "      <td>1.004057e+00</td>\n",
       "      <td>1.004057e+00</td>\n",
       "      <td>1.004057e+00</td>\n",
       "      <td>1.004057e+00</td>\n",
       "      <td>1.004057e+00</td>\n",
       "      <td>1.004057e+00</td>\n",
       "      <td>1.004057e+00</td>\n",
       "      <td>1.004057e+00</td>\n",
       "      <td>1.004057e+00</td>\n",
       "      <td>1.004057e+00</td>\n",
       "      <td>1.004057e+00</td>\n",
       "      <td>1.004057e+00</td>\n",
       "      <td>1.004057e+00</td>\n",
       "    </tr>\n",
       "    <tr>\n",
       "      <th>min</th>\n",
       "      <td>-1.971837e+00</td>\n",
       "      <td>-1.380243e+00</td>\n",
       "      <td>-2.554934e+00</td>\n",
       "      <td>-2.525252e+00</td>\n",
       "      <td>-2.069521e+00</td>\n",
       "      <td>-2.187238e+00</td>\n",
       "      <td>-1.691226e+00</td>\n",
       "      <td>-1.964528e+00</td>\n",
       "      <td>-2.068907e+00</td>\n",
       "      <td>-1.419256e+00</td>\n",
       "      <td>-2.147813e+00</td>\n",
       "      <td>-1.947267e+00</td>\n",
       "      <td>-1.465378e+00</td>\n",
       "    </tr>\n",
       "    <tr>\n",
       "      <th>25%</th>\n",
       "      <td>-8.150037e-01</td>\n",
       "      <td>-6.275963e-01</td>\n",
       "      <td>-5.499141e-01</td>\n",
       "      <td>-6.917901e-01</td>\n",
       "      <td>-7.889079e-01</td>\n",
       "      <td>-8.535947e-01</td>\n",
       "      <td>-7.985839e-01</td>\n",
       "      <td>-8.092365e-01</td>\n",
       "      <td>-6.496852e-01</td>\n",
       "      <td>-8.006399e-01</td>\n",
       "      <td>-7.436984e-01</td>\n",
       "      <td>-8.974047e-01</td>\n",
       "      <td>-7.823560e-01</td>\n",
       "    </tr>\n",
       "    <tr>\n",
       "      <th>50%</th>\n",
       "      <td>3.819870e-02</td>\n",
       "      <td>-4.351583e-01</td>\n",
       "      <td>-5.565323e-02</td>\n",
       "      <td>-9.065504e-02</td>\n",
       "      <td>-1.130290e-01</td>\n",
       "      <td>1.385058e-01</td>\n",
       "      <td>9.896271e-02</td>\n",
       "      <td>-2.315907e-01</td>\n",
       "      <td>-7.775997e-02</td>\n",
       "      <td>-1.438903e-01</td>\n",
       "      <td>4.894675e-02</td>\n",
       "      <td>2.823374e-01</td>\n",
       "      <td>-2.499217e-01</td>\n",
       "    </tr>\n",
       "    <tr>\n",
       "      <th>75%</th>\n",
       "      <td>8.033481e-01</td>\n",
       "      <td>6.980880e-01</td>\n",
       "      <td>7.370293e-01</td>\n",
       "      <td>5.705935e-01</td>\n",
       "      <td>5.094911e-01</td>\n",
       "      <td>8.297234e-01</td>\n",
       "      <td>8.322044e-01</td>\n",
       "      <td>6.142478e-01</td>\n",
       "      <td>5.619490e-01</td>\n",
       "      <td>4.704883e-01</td>\n",
       "      <td>7.510038e-01</td>\n",
       "      <td>7.946413e-01</td>\n",
       "      <td>8.610452e-01</td>\n",
       "    </tr>\n",
       "    <tr>\n",
       "      <th>max</th>\n",
       "      <td>2.181832e+00</td>\n",
       "      <td>2.947475e+00</td>\n",
       "      <td>3.152379e+00</td>\n",
       "      <td>3.065304e+00</td>\n",
       "      <td>3.693237e+00</td>\n",
       "      <td>2.529306e+00</td>\n",
       "      <td>2.958360e+00</td>\n",
       "      <td>2.161513e+00</td>\n",
       "      <td>3.286008e+00</td>\n",
       "      <td>3.351712e+00</td>\n",
       "      <td>2.109824e+00</td>\n",
       "      <td>1.992422e+00</td>\n",
       "      <td>2.843268e+00</td>\n",
       "    </tr>\n",
       "  </tbody>\n",
       "</table>\n",
       "</div>"
      ],
      "text/plain": [
       "                 0             1             2             3             4   \\\n",
       "count  1.240000e+02  1.240000e+02  1.240000e+02  1.240000e+02  1.240000e+02   \n",
       "mean   6.890098e-15  1.683241e-16  3.799660e-15  2.856138e-16 -3.178461e-16   \n",
       "std    1.004057e+00  1.004057e+00  1.004057e+00  1.004057e+00  1.004057e+00   \n",
       "min   -1.971837e+00 -1.380243e+00 -2.554934e+00 -2.525252e+00 -2.069521e+00   \n",
       "25%   -8.150037e-01 -6.275963e-01 -5.499141e-01 -6.917901e-01 -7.889079e-01   \n",
       "50%    3.819870e-02 -4.351583e-01 -5.565323e-02 -9.065504e-02 -1.130290e-01   \n",
       "75%    8.033481e-01  6.980880e-01  7.370293e-01  5.705935e-01  5.094911e-01   \n",
       "max    2.181832e+00  2.947475e+00  3.152379e+00  3.065304e+00  3.693237e+00   \n",
       "\n",
       "                 5             6             7             8             9   \\\n",
       "count  1.240000e+02  1.240000e+02  1.240000e+02  1.240000e+02  1.240000e+02   \n",
       "mean   1.662649e-15  1.598184e-16 -1.198862e-15  1.888274e-15 -1.615195e-15   \n",
       "std    1.004057e+00  1.004057e+00  1.004057e+00  1.004057e+00  1.004057e+00   \n",
       "min   -2.187238e+00 -1.691226e+00 -1.964528e+00 -2.068907e+00 -1.419256e+00   \n",
       "25%   -8.535947e-01 -7.985839e-01 -8.092365e-01 -6.496852e-01 -8.006399e-01   \n",
       "50%    1.385058e-01  9.896271e-02 -2.315907e-01 -7.775997e-02 -1.438903e-01   \n",
       "75%    8.297234e-01  8.322044e-01  6.142478e-01  5.619490e-01  4.704883e-01   \n",
       "max    2.529306e+00  2.958360e+00  2.161513e+00  3.286008e+00  3.351712e+00   \n",
       "\n",
       "                 10            11            12  \n",
       "count  1.240000e+02  1.240000e+02  1.240000e+02  \n",
       "mean  -5.783904e-16  8.631089e-16 -1.334058e-16  \n",
       "std    1.004057e+00  1.004057e+00  1.004057e+00  \n",
       "min   -2.147813e+00 -1.947267e+00 -1.465378e+00  \n",
       "25%   -7.436984e-01 -8.974047e-01 -7.823560e-01  \n",
       "50%    4.894675e-02  2.823374e-01 -2.499217e-01  \n",
       "75%    7.510038e-01  7.946413e-01  8.610452e-01  \n",
       "max    2.109824e+00  1.992422e+00  2.843268e+00  "
      ]
     },
     "execution_count": 42,
     "metadata": {},
     "output_type": "execute_result"
    }
   ],
   "source": [
    "pd.DataFrame(X_train_std).describe()"
   ]
  },
  {
   "cell_type": "code",
   "execution_count": 43,
   "id": "48c30ea6",
   "metadata": {},
   "outputs": [],
   "source": [
    "X_test_std = scaler.transform(X_test)"
   ]
  },
  {
   "cell_type": "code",
   "execution_count": 45,
   "id": "a8e3e3d2",
   "metadata": {},
   "outputs": [
    {
     "data": {
      "text/html": [
       "<div>\n",
       "<style scoped>\n",
       "    .dataframe tbody tr th:only-of-type {\n",
       "        vertical-align: middle;\n",
       "    }\n",
       "\n",
       "    .dataframe tbody tr th {\n",
       "        vertical-align: top;\n",
       "    }\n",
       "\n",
       "    .dataframe thead th {\n",
       "        text-align: right;\n",
       "    }\n",
       "</style>\n",
       "<table border=\"1\" class=\"dataframe\">\n",
       "  <thead>\n",
       "    <tr style=\"text-align: right;\">\n",
       "      <th></th>\n",
       "      <th>0</th>\n",
       "      <th>1</th>\n",
       "      <th>2</th>\n",
       "      <th>3</th>\n",
       "      <th>4</th>\n",
       "      <th>5</th>\n",
       "      <th>6</th>\n",
       "      <th>7</th>\n",
       "      <th>8</th>\n",
       "      <th>9</th>\n",
       "      <th>10</th>\n",
       "      <th>11</th>\n",
       "      <th>12</th>\n",
       "    </tr>\n",
       "  </thead>\n",
       "  <tbody>\n",
       "    <tr>\n",
       "      <th>count</th>\n",
       "      <td>54.000000</td>\n",
       "      <td>54.000000</td>\n",
       "      <td>54.000000</td>\n",
       "      <td>54.000000</td>\n",
       "      <td>54.000000</td>\n",
       "      <td>54.000000</td>\n",
       "      <td>54.000000</td>\n",
       "      <td>54.000000</td>\n",
       "      <td>54.000000</td>\n",
       "      <td>54.000000</td>\n",
       "      <td>54.000000</td>\n",
       "      <td>54.000000</td>\n",
       "      <td>54.000000</td>\n",
       "    </tr>\n",
       "    <tr>\n",
       "      <th>mean</th>\n",
       "      <td>-0.131835</td>\n",
       "      <td>-0.049174</td>\n",
       "      <td>-0.226279</td>\n",
       "      <td>-0.303835</td>\n",
       "      <td>0.153107</td>\n",
       "      <td>-0.159365</td>\n",
       "      <td>-0.112663</td>\n",
       "      <td>-0.168936</td>\n",
       "      <td>-0.279228</td>\n",
       "      <td>-0.044005</td>\n",
       "      <td>0.048611</td>\n",
       "      <td>-0.036483</td>\n",
       "      <td>-0.080326</td>\n",
       "    </tr>\n",
       "    <tr>\n",
       "      <th>std</th>\n",
       "      <td>0.945881</td>\n",
       "      <td>0.841129</td>\n",
       "      <td>1.059069</td>\n",
       "      <td>0.979626</td>\n",
       "      <td>1.044970</td>\n",
       "      <td>1.049986</td>\n",
       "      <td>0.925997</td>\n",
       "      <td>1.078199</td>\n",
       "      <td>0.864142</td>\n",
       "      <td>0.938784</td>\n",
       "      <td>1.112748</td>\n",
       "      <td>1.079511</td>\n",
       "      <td>0.885251</td>\n",
       "    </tr>\n",
       "    <tr>\n",
       "      <th>min</th>\n",
       "      <td>-2.433355</td>\n",
       "      <td>-1.243398</td>\n",
       "      <td>-3.823226</td>\n",
       "      <td>-2.765706</td>\n",
       "      <td>-1.286924</td>\n",
       "      <td>-1.992071</td>\n",
       "      <td>-1.563706</td>\n",
       "      <td>-1.634445</td>\n",
       "      <td>-2.085853</td>\n",
       "      <td>-1.614162</td>\n",
       "      <td>-1.876049</td>\n",
       "      <td>-1.918405</td>\n",
       "      <td>-1.351669</td>\n",
       "    </tr>\n",
       "    <tr>\n",
       "      <th>25%</th>\n",
       "      <td>-0.815004</td>\n",
       "      <td>-0.642564</td>\n",
       "      <td>-0.689799</td>\n",
       "      <td>-1.112585</td>\n",
       "      <td>-0.717763</td>\n",
       "      <td>-1.016234</td>\n",
       "      <td>-0.928557</td>\n",
       "      <td>-0.953648</td>\n",
       "      <td>-0.844563</td>\n",
       "      <td>-0.777336</td>\n",
       "      <td>-0.788992</td>\n",
       "      <td>-1.139126</td>\n",
       "      <td>-0.767758</td>\n",
       "    </tr>\n",
       "    <tr>\n",
       "      <th>50%</th>\n",
       "      <td>-0.156125</td>\n",
       "      <td>-0.400947</td>\n",
       "      <td>-0.260818</td>\n",
       "      <td>-0.316081</td>\n",
       "      <td>-0.077456</td>\n",
       "      <td>-0.178641</td>\n",
       "      <td>-0.004034</td>\n",
       "      <td>-0.602934</td>\n",
       "      <td>-0.306530</td>\n",
       "      <td>-0.207447</td>\n",
       "      <td>0.139535</td>\n",
       "      <td>0.195751</td>\n",
       "      <td>-0.260678</td>\n",
       "    </tr>\n",
       "    <tr>\n",
       "      <th>75%</th>\n",
       "      <td>0.566516</td>\n",
       "      <td>0.569796</td>\n",
       "      <td>0.457259</td>\n",
       "      <td>0.472909</td>\n",
       "      <td>0.829644</td>\n",
       "      <td>0.508511</td>\n",
       "      <td>0.662995</td>\n",
       "      <td>0.511097</td>\n",
       "      <td>0.269632</td>\n",
       "      <td>0.491674</td>\n",
       "      <td>0.784974</td>\n",
       "      <td>0.946168</td>\n",
       "      <td>0.396222</td>\n",
       "    </tr>\n",
       "    <tr>\n",
       "      <th>max</th>\n",
       "      <td>1.647442</td>\n",
       "      <td>1.929691</td>\n",
       "      <td>1.995996</td>\n",
       "      <td>2.163601</td>\n",
       "      <td>4.475833</td>\n",
       "      <td>2.480514</td>\n",
       "      <td>1.653729</td>\n",
       "      <td>2.409076</td>\n",
       "      <td>2.777630</td>\n",
       "      <td>2.368706</td>\n",
       "      <td>3.423350</td>\n",
       "      <td>1.876974</td>\n",
       "      <td>2.228625</td>\n",
       "    </tr>\n",
       "  </tbody>\n",
       "</table>\n",
       "</div>"
      ],
      "text/plain": [
       "              0          1          2          3          4          5   \\\n",
       "count  54.000000  54.000000  54.000000  54.000000  54.000000  54.000000   \n",
       "mean   -0.131835  -0.049174  -0.226279  -0.303835   0.153107  -0.159365   \n",
       "std     0.945881   0.841129   1.059069   0.979626   1.044970   1.049986   \n",
       "min    -2.433355  -1.243398  -3.823226  -2.765706  -1.286924  -1.992071   \n",
       "25%    -0.815004  -0.642564  -0.689799  -1.112585  -0.717763  -1.016234   \n",
       "50%    -0.156125  -0.400947  -0.260818  -0.316081  -0.077456  -0.178641   \n",
       "75%     0.566516   0.569796   0.457259   0.472909   0.829644   0.508511   \n",
       "max     1.647442   1.929691   1.995996   2.163601   4.475833   2.480514   \n",
       "\n",
       "              6          7          8          9          10         11  \\\n",
       "count  54.000000  54.000000  54.000000  54.000000  54.000000  54.000000   \n",
       "mean   -0.112663  -0.168936  -0.279228  -0.044005   0.048611  -0.036483   \n",
       "std     0.925997   1.078199   0.864142   0.938784   1.112748   1.079511   \n",
       "min    -1.563706  -1.634445  -2.085853  -1.614162  -1.876049  -1.918405   \n",
       "25%    -0.928557  -0.953648  -0.844563  -0.777336  -0.788992  -1.139126   \n",
       "50%    -0.004034  -0.602934  -0.306530  -0.207447   0.139535   0.195751   \n",
       "75%     0.662995   0.511097   0.269632   0.491674   0.784974   0.946168   \n",
       "max     1.653729   2.409076   2.777630   2.368706   3.423350   1.876974   \n",
       "\n",
       "              12  \n",
       "count  54.000000  \n",
       "mean   -0.080326  \n",
       "std     0.885251  \n",
       "min    -1.351669  \n",
       "25%    -0.767758  \n",
       "50%    -0.260678  \n",
       "75%     0.396222  \n",
       "max     2.228625  "
      ]
     },
     "execution_count": 45,
     "metadata": {},
     "output_type": "execute_result"
    }
   ],
   "source": [
    "pd.DataFrame(X_test_std).describe()"
   ]
  },
  {
   "cell_type": "markdown",
   "id": "0a466968",
   "metadata": {},
   "source": [
    "## 차원 축소"
   ]
  },
  {
   "cell_type": "code",
   "execution_count": 46,
   "id": "3c0d934f",
   "metadata": {},
   "outputs": [],
   "source": [
    "from sklearn.decomposition import PCA"
   ]
  },
  {
   "cell_type": "code",
   "execution_count": 47,
   "id": "7cf3a244",
   "metadata": {},
   "outputs": [],
   "source": [
    "pca = PCA(n_components = 2)"
   ]
  },
  {
   "cell_type": "code",
   "execution_count": 48,
   "id": "961ce615",
   "metadata": {},
   "outputs": [
    {
     "data": {
      "text/plain": [
       "PCA(n_components=2)"
      ]
     },
     "execution_count": 48,
     "metadata": {},
     "output_type": "execute_result"
    }
   ],
   "source": [
    "pca.fit(X_train_std)"
   ]
  },
  {
   "cell_type": "code",
   "execution_count": 49,
   "id": "5bd72eff",
   "metadata": {},
   "outputs": [],
   "source": [
    "X_train_pca = pca.transform(X_train_std)"
   ]
  },
  {
   "cell_type": "code",
   "execution_count": 50,
   "id": "7476ef48",
   "metadata": {},
   "outputs": [
    {
     "data": {
      "text/plain": [
       "(124, 13)"
      ]
     },
     "execution_count": 50,
     "metadata": {},
     "output_type": "execute_result"
    }
   ],
   "source": [
    "X_train_std.shape"
   ]
  },
  {
   "cell_type": "code",
   "execution_count": 51,
   "id": "c2620a82",
   "metadata": {},
   "outputs": [
    {
     "data": {
      "text/plain": [
       "array([[-0.13724218,  0.24724326, -0.02545159,  0.20694508, -0.15436582,\n",
       "        -0.39376952, -0.41735106,  0.30572896, -0.30668347,  0.07554066,\n",
       "        -0.32613263, -0.36861022, -0.29669651],\n",
       "       [ 0.50303478,  0.16487119,  0.24456476, -0.11352904,  0.28974518,\n",
       "         0.05080104, -0.02287338,  0.09048885,  0.00835233,  0.54977581,\n",
       "        -0.20716433, -0.24902536,  0.38022942]])"
      ]
     },
     "execution_count": 51,
     "metadata": {},
     "output_type": "execute_result"
    }
   ],
   "source": [
    "pca.components_"
   ]
  },
  {
   "cell_type": "code",
   "execution_count": 52,
   "id": "1c0c45f6",
   "metadata": {},
   "outputs": [
    {
     "data": {
      "text/plain": [
       "array([0.36951469, 0.18434927])"
      ]
     },
     "execution_count": 52,
     "metadata": {},
     "output_type": "execute_result"
    }
   ],
   "source": [
    "pca.explained_variance_ratio_ # 13를 써도 괜찮지만 2개를 써도 괜찮음"
   ]
  },
  {
   "cell_type": "code",
   "execution_count": null,
   "id": "ed4e0615",
   "metadata": {},
   "outputs": [],
   "source": []
  }
 ],
 "metadata": {
  "kernelspec": {
   "display_name": "Python 3",
   "language": "python",
   "name": "python3"
  },
  "language_info": {
   "codemirror_mode": {
    "name": "ipython",
    "version": 3
   },
   "file_extension": ".py",
   "mimetype": "text/x-python",
   "name": "python",
   "nbconvert_exporter": "python",
   "pygments_lexer": "ipython3",
   "version": "3.8.8"
  }
 },
 "nbformat": 4,
 "nbformat_minor": 5
}
