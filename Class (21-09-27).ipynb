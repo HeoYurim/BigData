{
 "cells": [
  {
   "cell_type": "code",
   "execution_count": 28,
   "id": "e0c6f484",
   "metadata": {},
   "outputs": [],
   "source": [
    "class Circle:\n",
    "    def __init__(self, r):  # r 반지릉 길이에 대한 circle을 만들라는 명령어 __init__\n",
    "        self.radius = r"
   ]
  },
  {
   "cell_type": "code",
   "execution_count": 29,
   "id": "dc3853ff",
   "metadata": {},
   "outputs": [],
   "source": [
    "my_circle = Circle(5.) #반지름이 5인 원 객체"
   ]
  },
  {
   "cell_type": "code",
   "execution_count": 30,
   "id": "faea26bb",
   "metadata": {},
   "outputs": [
    {
     "data": {
      "text/plain": [
       "5.0"
      ]
     },
     "execution_count": 30,
     "metadata": {},
     "output_type": "execute_result"
    }
   ],
   "source": [
    "my_circle.radius  #반지름은?"
   ]
  },
  {
   "cell_type": "code",
   "execution_count": 31,
   "id": "492f6b29",
   "metadata": {},
   "outputs": [],
   "source": [
    "class Circle:\n",
    "    def __init__(self, r):  # r 반지릉 길이에 대한 circle을 만들라는 명령어 __init__\n",
    "        self.radius = r\n",
    "    def get_radius(self):\n",
    "        return self.radius"
   ]
  },
  {
   "cell_type": "code",
   "execution_count": 32,
   "id": "e116858c",
   "metadata": {},
   "outputs": [],
   "source": [
    "my_circle = Circle(5.)"
   ]
  },
  {
   "cell_type": "code",
   "execution_count": 33,
   "id": "c7d7ed7c",
   "metadata": {},
   "outputs": [
    {
     "data": {
      "text/plain": [
       "5.0"
      ]
     },
     "execution_count": 33,
     "metadata": {},
     "output_type": "execute_result"
    }
   ],
   "source": [
    "my_circle.get_radius()"
   ]
  },
  {
   "cell_type": "code",
   "execution_count": 34,
   "id": "507b30c5",
   "metadata": {},
   "outputs": [],
   "source": [
    "class Circle:\n",
    "    def __init__(self, r):  # r 반지릉 길이에 대한 circle을 만들라는 명령어 __init__\n",
    "        self.radius = r\n",
    "    def get_radius(self):\n",
    "        return self.radius\n",
    "    def getArea(self):      # 면적 값 구하기\n",
    "        return 3.14 * self.radius ** 2"
   ]
  },
  {
   "cell_type": "code",
   "execution_count": 35,
   "id": "885b0f3f",
   "metadata": {},
   "outputs": [],
   "source": [
    "my_circle = Circle(5.)"
   ]
  },
  {
   "cell_type": "code",
   "execution_count": 36,
   "id": "04cb2ea3",
   "metadata": {},
   "outputs": [
    {
     "data": {
      "text/plain": [
       "78.5"
      ]
     },
     "execution_count": 36,
     "metadata": {},
     "output_type": "execute_result"
    }
   ],
   "source": [
    "my_circle.getArea()  # 면적 값"
   ]
  },
  {
   "cell_type": "code",
   "execution_count": 37,
   "id": "534a51e5",
   "metadata": {},
   "outputs": [],
   "source": [
    "import math\n",
    "class Circle:\n",
    "    def __init__(self, r):  # r 반지릉 길이에 대한 circle을 만들라는 명령어 __init__\n",
    "        self.radius = r\n",
    "    def get_radius(self):\n",
    "        return self.radius\n",
    "    def getArea(self):      # 면적 값 구하기\n",
    "        return math.pi * self.radius ** 2"
   ]
  },
  {
   "cell_type": "code",
   "execution_count": 38,
   "id": "a64e91bd",
   "metadata": {},
   "outputs": [],
   "source": [
    "my_circle = Circle(5.)"
   ]
  },
  {
   "cell_type": "code",
   "execution_count": 39,
   "id": "55561f45",
   "metadata": {},
   "outputs": [
    {
     "data": {
      "text/plain": [
       "78.53981633974483"
      ]
     },
     "execution_count": 39,
     "metadata": {},
     "output_type": "execute_result"
    }
   ],
   "source": [
    "my_circle.getArea()  # 면적 값"
   ]
  },
  {
   "cell_type": "code",
   "execution_count": 41,
   "id": "022f3d5d",
   "metadata": {},
   "outputs": [],
   "source": [
    "import math\n",
    "class Circle:\n",
    "    def __init__(self, r):  # r 반지릉 길이에 대한 circle을 만들라는 명령어 __init__\n",
    "        self.radius = r\n",
    "    def get_radius(self):\n",
    "        return self.radius\n",
    "    def getArea(self):      # 면적 값 구하기\n",
    "        return math.pi * self.radius ** 2\n",
    "    def __le__(self, other):  # 다른 원과 비교하기\n",
    "        return self. radius <= other.radius"
   ]
  },
  {
   "cell_type": "code",
   "execution_count": 43,
   "id": "3f6b92c7",
   "metadata": {},
   "outputs": [
    {
     "data": {
      "text/plain": [
       "False"
      ]
     },
     "execution_count": 43,
     "metadata": {},
     "output_type": "execute_result"
    }
   ],
   "source": [
    "c1 = Circle(5.5)\n",
    "c2 = Circle(2.3)\n",
    "c1 <= c2"
   ]
  },
  {
   "cell_type": "code",
   "execution_count": null,
   "id": "3844ab63",
   "metadata": {},
   "outputs": [],
   "source": []
  }
 ],
 "metadata": {
  "kernelspec": {
   "display_name": "Python 3",
   "language": "python",
   "name": "python3"
  },
  "language_info": {
   "codemirror_mode": {
    "name": "ipython",
    "version": 3
   },
   "file_extension": ".py",
   "mimetype": "text/x-python",
   "name": "python",
   "nbconvert_exporter": "python",
   "pygments_lexer": "ipython3",
   "version": "3.8.8"
  }
 },
 "nbformat": 4,
 "nbformat_minor": 5
}
