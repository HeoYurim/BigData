{
 "cells": [
  {
   "cell_type": "markdown",
   "id": "212800de",
   "metadata": {},
   "source": [
    "#### 시퀀설 API를 사용하여 이미지 분류기 만들기(패션 MNIST)"
   ]
  },
  {
   "cell_type": "code",
   "execution_count": 13,
   "id": "a8454cb0",
   "metadata": {},
   "outputs": [],
   "source": [
    "import tensorflow as tf\n",
    "import matplotlib.pyplot as plt"
   ]
  },
  {
   "cell_type": "code",
   "execution_count": 14,
   "id": "0f186ce8",
   "metadata": {},
   "outputs": [],
   "source": [
    "(X_train, y_train), (X_test, y_test) = tf.keras.datasets.fashion_mnist.load_data()"
   ]
  },
  {
   "cell_type": "code",
   "execution_count": 15,
   "id": "8ce6fdc9",
   "metadata": {},
   "outputs": [
    {
     "data": {
      "text/plain": [
       "<matplotlib.image.AxesImage at 0x19db4e1e430>"
      ]
     },
     "execution_count": 15,
     "metadata": {},
     "output_type": "execute_result"
    },
    {
     "data": {
      "image/png": "[encoded data removed]",
      "text/plain": [
       "<Figure size 432x288 with 1 Axes>"
      ]
     },
     "metadata": {
      "needs_background": "light"
     },
     "output_type": "display_data"
    }
   ],
   "source": [
    "plt.imshow(X_train[0, :, :], cmap='Greys')"
   ]
  },
  {
   "cell_type": "code",
   "execution_count": 16,
   "id": "7306d88c",
   "metadata": {},
   "outputs": [],
   "source": [
    "class_names = ['T-shirt/top','Trouser','Pullover', 'Dress', 'Coat', 'Sandal', 'Shirt', 'Sneaker', 'Bag', 'Ankleboot']"
   ]
  },
  {
   "cell_type": "code",
   "execution_count": 17,
   "id": "82c53de4",
   "metadata": {},
   "outputs": [],
   "source": [
    "X_train = X_train / 255.0 #표준화, 모든 X값이 정수가 아닌 0 ~ 1사이로 들어감  #(0~255) => (0.0 , 1.0)\n",
    "X_test = X_test / 255.0"
   ]
  },
  {
   "cell_type": "code",
   "execution_count": 18,
   "id": "226647e6",
   "metadata": {},
   "outputs": [],
   "source": [
    "#MLP : 입력픙 => 은닉층1(300) => 은닉층2(100) => 출력층(10)\n",
    "model = tf.keras.models.Sequential([ tf.keras.layers.Flatten(input_shape=[28,28]), \n",
    "                                     tf.keras.layers.Dense(300, activation='relu'), \n",
    "                                     tf.keras.layers.Dense(100, activation='relu'), \n",
    "                                     tf.keras.layers.Dense(10, activation='softmax')\n",
    "])"
   ]
  },
  {
   "cell_type": "code",
   "execution_count": 19,
   "id": "5ab57a51",
   "metadata": {},
   "outputs": [],
   "source": [
    "#모형 컴파일 : 비용(손실) 함수, 최적화 알고리즘, 지표를 설정\n",
    "model.compile(loss='sparse_categorical_crossentropy', optimizer='sgd', metrics=['accuracy'])"
   ]
  },
  {
   "cell_type": "code",
   "execution_count": 20,
   "id": "2b428418",
   "metadata": {},
   "outputs": [
    {
     "name": "stdout",
     "output_type": "stream",
     "text": [
      "Epoch 1/10\n",
      "1688/1688 [==============================] - 5s 3ms/step - loss: 0.7299 - accuracy: 0.7623 - val_loss: 0.5360 - val_accuracy: 0.8100\n",
      "Epoch 2/10\n",
      "1688/1688 [==============================] - 5s 3ms/step - loss: 0.4888 - accuracy: 0.8308 - val_loss: 0.4705 - val_accuracy: 0.8297\n",
      "Epoch 3/10\n",
      "1688/1688 [==============================] - 5s 3ms/step - loss: 0.4427 - accuracy: 0.8467 - val_loss: 0.4713 - val_accuracy: 0.8305\n",
      "Epoch 4/10\n",
      "1688/1688 [==============================] - 4s 3ms/step - loss: 0.4131 - accuracy: 0.8563 - val_loss: 0.4053 - val_accuracy: 0.8542\n",
      "Epoch 5/10\n",
      "1688/1688 [==============================] - 5s 3ms/step - loss: 0.3935 - accuracy: 0.8627 - val_loss: 0.3895 - val_accuracy: 0.8585\n",
      "Epoch 6/10\n",
      "1688/1688 [==============================] - 5s 3ms/step - loss: 0.3756 - accuracy: 0.8683 - val_loss: 0.3843 - val_accuracy: 0.8623\n",
      "Epoch 7/10\n",
      "1688/1688 [==============================] - 4s 3ms/step - loss: 0.3624 - accuracy: 0.8725 - val_loss: 0.3862 - val_accuracy: 0.8585\n",
      "Epoch 8/10\n",
      "1688/1688 [==============================] - 4s 3ms/step - loss: 0.3505 - accuracy: 0.8761 - val_loss: 0.3640 - val_accuracy: 0.8702\n",
      "Epoch 9/10\n",
      "1688/1688 [==============================] - 5s 3ms/step - loss: 0.3405 - accuracy: 0.8787 - val_loss: 0.4001 - val_accuracy: 0.8515\n",
      "Epoch 10/10\n",
      "1688/1688 [==============================] - 5s 3ms/step - loss: 0.3298 - accuracy: 0.8826 - val_loss: 0.3545 - val_accuracy: 0.8750\n"
     ]
    }
   ],
   "source": [
    "history = model.fit(X_train, y_train, epochs=10, validation_split=0.1)\n",
    "#epoch를 쓰면서 네트워크를 쓰는양을 정한다."
   ]
  },
  {
   "cell_type": "code",
   "execution_count": 21,
   "id": "3f6d7001",
   "metadata": {},
   "outputs": [],
   "source": [
    "import pandas as pd"
   ]
  },
  {
   "cell_type": "code",
   "execution_count": 22,
   "id": "428e75d8",
   "metadata": {},
   "outputs": [
    {
     "data": {
      "text/plain": [
       "<AxesSubplot:>"
      ]
     },
     "execution_count": 22,
     "metadata": {},
     "output_type": "execute_result"
    },
    {
     "data": {
      "image/png": "[encoded data removed]",
      "text/plain": [
       "<Figure size 432x288 with 1 Axes>"
      ]
     },
     "metadata": {
      "needs_background": "light"
     },
     "output_type": "display_data"
    }
   ],
   "source": [
    "pd.DataFrame(history.history).plot()"
   ]
  },
  {
   "cell_type": "code",
   "execution_count": 23,
   "id": "6dda3604",
   "metadata": {},
   "outputs": [
    {
     "data": {
      "text/plain": [
       "array([[9.8568598e-06, 4.3404634e-06, 1.9376139e-05, 2.6414978e-05,\n",
       "        4.9891769e-06, 3.0093540e-02, 2.5204099e-05, 6.9652133e-02,\n",
       "        2.0115399e-03, 8.9815259e-01],\n",
       "       [1.2307816e-04, 1.0517397e-06, 9.8785514e-01, 4.1436442e-06,\n",
       "        1.1723771e-03, 6.0695360e-09, 1.0826272e-02, 1.6511285e-10,\n",
       "        1.7914470e-05, 6.3076699e-10],\n",
       "       [5.5135988e-05, 9.9992657e-01, 6.7049059e-06, 8.3416926e-06,\n",
       "        2.8966767e-06, 2.2040252e-09, 5.1639681e-08, 1.3585510e-07,\n",
       "        1.5449670e-07, 8.0034884e-10]], dtype=float32)"
      ]
     },
     "execution_count": 23,
     "metadata": {},
     "output_type": "execute_result"
    }
   ],
   "source": [
    "model.predict(X_test[:3])"
   ]
  },
  {
   "cell_type": "code",
   "execution_count": 24,
   "id": "080f8aa4",
   "metadata": {},
   "outputs": [],
   "source": [
    "import numpy as np"
   ]
  },
  {
   "cell_type": "code",
   "execution_count": 25,
   "id": "07f22455",
   "metadata": {},
   "outputs": [
    {
     "data": {
      "text/plain": [
       "array([9, 2, 1], dtype=int64)"
      ]
     },
     "execution_count": 25,
     "metadata": {},
     "output_type": "execute_result"
    }
   ],
   "source": [
    "np.argmax(model.predict(X_test[:3]),axis=1)"
   ]
  },
  {
   "cell_type": "code",
   "execution_count": 26,
   "id": "762e46eb",
   "metadata": {},
   "outputs": [
    {
     "data": {
      "text/plain": [
       "array([9, 2, 1], dtype=uint8)"
      ]
     },
     "execution_count": 26,
     "metadata": {},
     "output_type": "execute_result"
    }
   ],
   "source": [
    "y_test[:3]"
   ]
  },
  {
   "cell_type": "code",
   "execution_count": 27,
   "id": "5cb59595",
   "metadata": {},
   "outputs": [
    {
     "name": "stdout",
     "output_type": "stream",
     "text": [
      "313/313 [==============================] - 1s 2ms/step - loss: 0.3777 - accuracy: 0.8656\n"
     ]
    },
    {
     "data": {
      "text/plain": [
       "[0.37768951058387756, 0.8655999898910522]"
      ]
     },
     "execution_count": 27,
     "metadata": {},
     "output_type": "execute_result"
    }
   ],
   "source": [
    "model.evaluate(X_test,y_test)"
   ]
  },
  {
   "cell_type": "code",
   "execution_count": 31,
   "id": "0b4cab15",
   "metadata": {},
   "outputs": [],
   "source": [
    "p = np.argmax(model.predict(X_test), axis=1)"
   ]
  },
  {
   "cell_type": "code",
   "execution_count": 32,
   "id": "e6bf5e39",
   "metadata": {},
   "outputs": [],
   "source": [
    "from sklearn.metrics import confusion_matrix"
   ]
  },
  {
   "cell_type": "code",
   "execution_count": 33,
   "id": "5d850a7c",
   "metadata": {},
   "outputs": [
    {
     "data": {
      "text/plain": [
       "array([[871,   0,   8,  31,   1,   1,  72,   2,  14,   0],\n",
       "       [  5, 964,   1,  23,   2,   0,   3,   0,   2,   0],\n",
       "       [ 27,   2, 803,  13,  69,   0,  77,   0,   9,   0],\n",
       "       [ 36,  10,   8, 889,  24,   0,  27,   0,   6,   0],\n",
       "       [  0,   1, 141,  44, 721,   0,  84,   0,   9,   0],\n",
       "       [  0,   0,   0,   1,   0, 926,   0,  52,   4,  17],\n",
       "       [171,   1,  95,  30,  56,   1, 620,   0,  26,   0],\n",
       "       [  0,   0,   0,   0,   0,  19,   0, 940,   0,  41],\n",
       "       [  6,   1,   1,   7,   2,   1,   5,   7, 970,   0],\n",
       "       [  0,   0,   0,   0,   0,   7,   0,  40,   1, 952]], dtype=int64)"
      ]
     },
     "execution_count": 33,
     "metadata": {},
     "output_type": "execute_result"
    }
   ],
   "source": [
    "confusion_matrix(y_test,p)"
   ]
  }
 ],
 "metadata": {
  "kernelspec": {
   "display_name": "Python 3",
   "language": "python",
   "name": "python3"
  },
  "language_info": {
   "codemirror_mode": {
    "name": "ipython",
    "version": 3
   },
   "file_extension": ".py",
   "mimetype": "text/x-python",
   "name": "python",
   "nbconvert_exporter": "python",
   "pygments_lexer": "ipython3",
   "version": "3.8.8"
  }
 },
 "nbformat": 4,
 "nbformat_minor": 5
}
