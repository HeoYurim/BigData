{
 "cells": [
  {
   "cell_type": "markdown",
   "id": "5530ba90",
   "metadata": {},
   "source": [
    "# 파이썬 키워드"
   ]
  },
  {
   "cell_type": "code",
   "execution_count": 1,
   "id": "671f5f55",
   "metadata": {},
   "outputs": [],
   "source": [
    "import keyword"
   ]
  },
  {
   "cell_type": "code",
   "execution_count": 2,
   "id": "e0ce159b",
   "metadata": {},
   "outputs": [
    {
     "data": {
      "text/plain": [
       "['False',\n",
       " 'None',\n",
       " 'True',\n",
       " 'and',\n",
       " 'as',\n",
       " 'assert',\n",
       " 'async',\n",
       " 'await',\n",
       " 'break',\n",
       " 'class',\n",
       " 'continue',\n",
       " 'def',\n",
       " 'del',\n",
       " 'elif',\n",
       " 'else',\n",
       " 'except',\n",
       " 'finally',\n",
       " 'for',\n",
       " 'from',\n",
       " 'global',\n",
       " 'if',\n",
       " 'import',\n",
       " 'in',\n",
       " 'is',\n",
       " 'lambda',\n",
       " 'nonlocal',\n",
       " 'not',\n",
       " 'or',\n",
       " 'pass',\n",
       " 'raise',\n",
       " 'return',\n",
       " 'try',\n",
       " 'while',\n",
       " 'with',\n",
       " 'yield']"
      ]
     },
     "execution_count": 2,
     "metadata": {},
     "output_type": "execute_result"
    }
   ],
   "source": [
    "keyword.kwlist"
   ]
  },
  {
   "cell_type": "markdown",
   "id": "9e0be212",
   "metadata": {},
   "source": [
    "iskeyword => 특정 단어를 줄 때 keyword인지 아닌지 알려줌\n",
    "kwlist => keyword list 알려줌"
   ]
  },
  {
   "cell_type": "code",
   "execution_count": 3,
   "id": "80f97a78",
   "metadata": {},
   "outputs": [
    {
     "data": {
      "text/plain": [
       "35"
      ]
     },
     "execution_count": 3,
     "metadata": {},
     "output_type": "execute_result"
    }
   ],
   "source": [
    "len(keyword.kwlist)"
   ]
  },
  {
   "cell_type": "markdown",
   "id": "b10ef6aa",
   "metadata": {},
   "source": [
    "len은 몇 개인지 알려줌"
   ]
  },
  {
   "cell_type": "code",
   "execution_count": 4,
   "id": "78d56ab2",
   "metadata": {},
   "outputs": [
    {
     "data": {
      "text/plain": [
       "False"
      ]
     },
     "execution_count": 4,
     "metadata": {},
     "output_type": "execute_result"
    }
   ],
   "source": [
    "keyword.iskeyword('true')"
   ]
  },
  {
   "cell_type": "markdown",
   "id": "a79c69e6",
   "metadata": {},
   "source": [
    "ture/false를 할 때 대문자로 써야함"
   ]
  },
  {
   "cell_type": "code",
   "execution_count": 5,
   "id": "ef13e35f",
   "metadata": {},
   "outputs": [
    {
     "data": {
      "text/plain": [
       "True"
      ]
     },
     "execution_count": 5,
     "metadata": {},
     "output_type": "execute_result"
    }
   ],
   "source": [
    "keyword.iskeyword('True')"
   ]
  },
  {
   "cell_type": "markdown",
   "id": "d169e322",
   "metadata": {},
   "source": [
    "# 조건문"
   ]
  },
  {
   "cell_type": "code",
   "execution_count": 6,
   "id": "5e4c436a",
   "metadata": {},
   "outputs": [],
   "source": [
    "size = 'M'\n",
    "if size == 'S':\n",
    "    length, width = 68.0, 52.0\n",
    "elif size == 'M':\n",
    "    length, width = 70.0, 54.5\n",
    "else:\n",
    "    length, width = 72.0, 57.0"
   ]
  },
  {
   "cell_type": "code",
   "execution_count": 7,
   "id": "8949477e",
   "metadata": {},
   "outputs": [
    {
     "data": {
      "text/plain": [
       "70.0"
      ]
     },
     "execution_count": 7,
     "metadata": {},
     "output_type": "execute_result"
    }
   ],
   "source": [
    "length"
   ]
  },
  {
   "cell_type": "code",
   "execution_count": 8,
   "id": "84118409",
   "metadata": {},
   "outputs": [
    {
     "data": {
      "text/plain": [
       "54.5"
      ]
     },
     "execution_count": 8,
     "metadata": {},
     "output_type": "execute_result"
    }
   ],
   "source": [
    "width"
   ]
  },
  {
   "cell_type": "code",
   "execution_count": 9,
   "id": "858ec7bf",
   "metadata": {},
   "outputs": [
    {
     "name": "stdout",
     "output_type": "stream",
     "text": [
      "길이 = 70.0 너비 = 54.5\n"
     ]
    }
   ],
   "source": [
    "size = 'M'\n",
    "if size == 'S':\n",
    "    length, width = 68.0, 52.0\n",
    "elif size == 'M':\n",
    "    length, width = 70.0, 54.5\n",
    "else:\n",
    "    length, width = 72.0, 57.0\n",
    "print('길이 =', length, '너비 =', width)"
   ]
  },
  {
   "cell_type": "code",
   "execution_count": 10,
   "id": "2662fa7d",
   "metadata": {},
   "outputs": [
    {
     "name": "stdout",
     "output_type": "stream",
     "text": [
      "Variable   Type      Data/Info\n",
      "------------------------------\n",
      "keyword    module    <module 'keyword' from 'C<...>conda3\\\\lib\\\\keyword.py'>\n",
      "length     float     70.0\n",
      "size       str       M\n",
      "width      float     54.5\n"
     ]
    }
   ],
   "source": [
    "%whos"
   ]
  },
  {
   "cell_type": "markdown",
   "id": "30d88ca2",
   "metadata": {},
   "source": [
    "Interactive namespace의 모든 객체(변수, 함수 등) 정보 보기"
   ]
  },
  {
   "cell_type": "code",
   "execution_count": 11,
   "id": "a37c20cd",
   "metadata": {},
   "outputs": [],
   "source": [
    "%xdel size"
   ]
  },
  {
   "cell_type": "markdown",
   "id": "4defec95",
   "metadata": {},
   "source": [
    "특정 객체(와 관련된 모든 참조) 삭제"
   ]
  },
  {
   "cell_type": "code",
   "execution_count": 12,
   "id": "2a4f06d7",
   "metadata": {},
   "outputs": [
    {
     "name": "stdout",
     "output_type": "stream",
     "text": [
      "Variable   Type      Data/Info\n",
      "------------------------------\n",
      "keyword    module    <module 'keyword' from 'C<...>conda3\\\\lib\\\\keyword.py'>\n",
      "length     float     70.0\n",
      "width      float     54.5\n"
     ]
    }
   ],
   "source": [
    "%whos"
   ]
  },
  {
   "cell_type": "code",
   "execution_count": 14,
   "id": "2e38ab5b",
   "metadata": {},
   "outputs": [
    {
     "name": "stdout",
     "output_type": "stream",
     "text": [
      "Once deleted, variables cannot be recovered. Proceed (y/[n])? y\n"
     ]
    }
   ],
   "source": [
    "%reset"
   ]
  },
  {
   "cell_type": "markdown",
   "id": "f3ab34e0",
   "metadata": {},
   "source": [
    "전부 삭제"
   ]
  },
  {
   "cell_type": "code",
   "execution_count": 15,
   "id": "61be75ee",
   "metadata": {},
   "outputs": [
    {
     "name": "stdout",
     "output_type": "stream",
     "text": [
      "Interactive namespace is empty.\n"
     ]
    }
   ],
   "source": [
    "%whos"
   ]
  },
  {
   "cell_type": "code",
   "execution_count": 16,
   "id": "bdbb441f",
   "metadata": {},
   "outputs": [
    {
     "name": "stdout",
     "output_type": "stream",
     "text": [
      "Writing tsize.py\n"
     ]
    }
   ],
   "source": [
    "%%writefile tsize.py\n",
    "size = 'M'\n",
    "if size == 'S':\n",
    "    length, width = 68.0, 52.0\n",
    "elif size == 'M':\n",
    "    length, width = 70.0, 54.5\n",
    "else:\n",
    "    length, width = 72.0, 57.0\n",
    "print('길이 =', length, '너비 =', width)"
   ]
  },
  {
   "cell_type": "code",
   "execution_count": 17,
   "id": "6bf6695b",
   "metadata": {},
   "outputs": [
    {
     "name": "stdout",
     "output_type": "stream",
     "text": [
      "길이 = 70.0 너비 = 54.5\n"
     ]
    }
   ],
   "source": [
    "%run tsize.py"
   ]
  },
  {
   "cell_type": "code",
   "execution_count": 18,
   "id": "60edb44b",
   "metadata": {},
   "outputs": [
    {
     "name": "stdout",
     "output_type": "stream",
     "text": [
      "Overwriting tsize.py\n"
     ]
    }
   ],
   "source": [
    "%%writefile tsize.py\n",
    "if __name__ == '__main__':\n",
    "    size = 'L'\n",
    "    if size == 'S':\n",
    "        length, width = 68.0, 52.0\n",
    "    elif size == 'M':\n",
    "        length, width = 70.0, 54.5\n",
    "    else:\n",
    "        length, width = 72.0, 57.0\n",
    "    print('길이 =', length, '너비 =', width)"
   ]
  },
  {
   "cell_type": "code",
   "execution_count": 19,
   "id": "133bba0c",
   "metadata": {},
   "outputs": [
    {
     "name": "stdout",
     "output_type": "stream",
     "text": [
      "길이 = 72.0 너비 = 57.0\n"
     ]
    }
   ],
   "source": [
    "%run tsize.py"
   ]
  },
  {
   "cell_type": "markdown",
   "id": "0939accb",
   "metadata": {},
   "source": [
    "# 반복문"
   ]
  },
  {
   "cell_type": "code",
   "execution_count": 20,
   "id": "d848a3a4",
   "metadata": {},
   "outputs": [
    {
     "name": "stdout",
     "output_type": "stream",
     "text": [
      "소수!\n"
     ]
    }
   ],
   "source": [
    "n = 997\n",
    "i = 2\n",
    "while i < n:\n",
    "    if n % i == 0:\n",
    "        break\n",
    "    i = i + 1\n",
    "if i == n:   #2부터 (n-1)로 나누어 떨어지는 i가 없음\n",
    "    print('소수!')\n",
    "else:\n",
    "    print('소수가 아님!')"
   ]
  },
  {
   "cell_type": "code",
   "execution_count": 21,
   "id": "a8ca3a5d",
   "metadata": {},
   "outputs": [
    {
     "name": "stdout",
     "output_type": "stream",
     "text": [
      "8\n",
      "4\n",
      "10\n",
      "14\n",
      "6\n"
     ]
    }
   ],
   "source": [
    "my_list = [4,2,5,7,3] #리스트\n",
    "for x in my_list:\n",
    "    print(x*2)"
   ]
  },
  {
   "cell_type": "code",
   "execution_count": 23,
   "id": "dabf54b5",
   "metadata": {},
   "outputs": [
    {
     "name": "stdout",
     "output_type": "stream",
     "text": [
      "21\n"
     ]
    }
   ],
   "source": [
    "my_list = [4,2,5,7,3] #리스트\n",
    "sum = 0\n",
    "for x in my_list:\n",
    "    sum += x  #원소들의 합\n",
    "print(sum)"
   ]
  },
  {
   "cell_type": "code",
   "execution_count": 24,
   "id": "5ba5aaa4",
   "metadata": {},
   "outputs": [
    {
     "data": {
      "text/plain": [
       "range(1, 10)"
      ]
     },
     "execution_count": 24,
     "metadata": {},
     "output_type": "execute_result"
    }
   ],
   "source": [
    "range(1, 10)"
   ]
  },
  {
   "cell_type": "code",
   "execution_count": 26,
   "id": "ee142756",
   "metadata": {},
   "outputs": [
    {
     "name": "stdout",
     "output_type": "stream",
     "text": [
      "1\n",
      "2\n",
      "3\n",
      "4\n",
      "5\n",
      "6\n",
      "7\n",
      "8\n",
      "9\n"
     ]
    }
   ],
   "source": [
    "for x in range(1,10):\n",
    "    print(x)"
   ]
  },
  {
   "cell_type": "code",
   "execution_count": 27,
   "id": "89126fe6",
   "metadata": {},
   "outputs": [
    {
     "name": "stdout",
     "output_type": "stream",
     "text": [
      "1 2 3 4 5 6 7 8 9 "
     ]
    }
   ],
   "source": [
    "for x in range(1,10):\n",
    "    print(x, end = ' ')"
   ]
  },
  {
   "cell_type": "code",
   "execution_count": 28,
   "id": "7cd1b7cb",
   "metadata": {},
   "outputs": [
    {
     "name": "stdout",
     "output_type": "stream",
     "text": [
      "1 3 5 7 9 "
     ]
    }
   ],
   "source": [
    "for x in range(1,10, 2):\n",
    "    print(x, end = ' ')"
   ]
  },
  {
   "cell_type": "code",
   "execution_count": 29,
   "id": "2c9e9036",
   "metadata": {},
   "outputs": [
    {
     "name": "stdout",
     "output_type": "stream",
     "text": [
      "2 3 4 "
     ]
    }
   ],
   "source": [
    "for x in range(2,5):\n",
    "    print(x, end = ' ')"
   ]
  },
  {
   "cell_type": "code",
   "execution_count": 30,
   "id": "38be2dd7",
   "metadata": {},
   "outputs": [
    {
     "name": "stdout",
     "output_type": "stream",
     "text": [
      "0 1 2 3 4 "
     ]
    }
   ],
   "source": [
    "for x in range(5):\n",
    "    print(x, end = ' ')"
   ]
  },
  {
   "cell_type": "markdown",
   "id": "bafeca91",
   "metadata": {},
   "source": [
    "end 값이 5이고 디폴트 값이 0 이어서 0부터 4까지 출력"
   ]
  },
  {
   "cell_type": "code",
   "execution_count": 33,
   "id": "27fef179",
   "metadata": {},
   "outputs": [
    {
     "name": "stdout",
     "output_type": "stream",
     "text": [
      "1 0 -1 -2 -3 -4 "
     ]
    }
   ],
   "source": [
    "for x in range(1, -5, -1):\n",
    "    print(x, end=' ')"
   ]
  },
  {
   "cell_type": "markdown",
   "id": "1e42e009",
   "metadata": {},
   "source": [
    "1부터 -4까지 -1씩 감소"
   ]
  },
  {
   "cell_type": "code",
   "execution_count": 34,
   "id": "2c610c8f",
   "metadata": {},
   "outputs": [
    {
     "name": "stdout",
     "output_type": "stream",
     "text": [
      "Hello\n",
      "Hello\n",
      "Hello\n",
      "Hello\n",
      "Hello\n"
     ]
    }
   ],
   "source": [
    "for x in range(5):\n",
    "    print('Hello')"
   ]
  },
  {
   "cell_type": "code",
   "execution_count": null,
   "id": "8601da2f",
   "metadata": {},
   "outputs": [],
   "source": []
  }
 ],
 "metadata": {
  "kernelspec": {
   "display_name": "Python 3",
   "language": "python",
   "name": "python3"
  },
  "language_info": {
   "codemirror_mode": {
    "name": "ipython",
    "version": 3
   },
   "file_extension": ".py",
   "mimetype": "text/x-python",
   "name": "python",
   "nbconvert_exporter": "python",
   "pygments_lexer": "ipython3",
   "version": "3.8.8"
  }
 },
 "nbformat": 4,
 "nbformat_minor": 5
}
