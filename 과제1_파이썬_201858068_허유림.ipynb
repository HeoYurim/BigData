{
 "cells": [
  {
   "cell_type": "markdown",
   "id": "fefff9b1",
   "metadata": {},
   "source": [
    "# 컴퓨터공학부 201858068 허유림"
   ]
  },
  {
   "cell_type": "markdown",
   "id": "da939747",
   "metadata": {},
   "source": [
    "## 과제 #1 : Python"
   ]
  },
  {
   "cell_type": "markdown",
   "id": "52e02bc8",
   "metadata": {},
   "source": [
    "### [1] 2개 원소를 갖는 튜플 리스트를 두 개의 리스트로 반환하는 unzip() 함수를 작성하고 테스트하시오"
   ]
  },
  {
   "cell_type": "code",
   "execution_count": 37,
   "id": "c7bc9d5f",
   "metadata": {},
   "outputs": [],
   "source": [
    "def unzip(data):                              # x, y로 값 나눔\n",
    "    x,y = zip(*data)\n",
    "    return list(x),list(y)"
   ]
  },
  {
   "cell_type": "code",
   "execution_count": 24,
   "id": "2fd6e52b",
   "metadata": {},
   "outputs": [
    {
     "name": "stdout",
     "output_type": "stream",
     "text": [
      "[3, 2.1, 9.3, 4, -2]\n",
      "[6, 5, 10, 2, 7]\n"
     ]
    }
   ],
   "source": [
    "data = [(3,6),(2.1,5),(9.3,10),(4,2),(-2,7)]\n",
    "x,y = unzip(data)\n",
    "print(x)\n",
    "print(y)"
   ]
  },
  {
   "cell_type": "markdown",
   "id": "e0e7a388",
   "metadata": {},
   "source": [
    "### [2] 파이썬 파일을 읽어 각 키워드의 빈도수를 센 후, 빈도수 기준으로 정렬한 리스트를 반환하는 keyword_count(filename) 함수를 정의하고 mystery.py 파일에 대한 결과를 출력하시오"
   ]
  },
  {
   "cell_type": "code",
   "execution_count": 25,
   "id": "a141b547",
   "metadata": {},
   "outputs": [],
   "source": [
    "import keyword"
   ]
  },
  {
   "cell_type": "code",
   "execution_count": 26,
   "id": "d017c403",
   "metadata": {},
   "outputs": [],
   "source": [
    "def keyword_count(filename):\n",
    "    infile = open(filename, 'r')                                                        # 텍스트 파일 처리\n",
    "    change = infile.read().replace(\":\", \" \").split(\" \")\n",
    "    \n",
    "    wordcount = {}                                                                      # 딕셔너리 생성\n",
    "    \n",
    "    for word in change:                                                                # 파일로부터 읽은 각 줄에 대하여 반복(순환)\n",
    "        if word in set(keyword.kwlist):                                                # 파이썬 키워드들을 set으로 저장\n",
    "            wordcount[word] = wordcount.get(word, 0) + 1\n",
    "            \n",
    "    wordcount = sorted(wordcount.items(), key= lambda x : x[1], reverse=True)\n",
    "        \n",
    "    return wordcount\n",
    "         \n",
    "   "
   ]
  },
  {
   "cell_type": "code",
   "execution_count": 27,
   "id": "4849b9db",
   "metadata": {},
   "outputs": [
    {
     "name": "stdout",
     "output_type": "stream",
     "text": [
      "[('def', 36), ('return', 17), ('in', 16), ('if', 13), ('for', 10), ('import', 6), ('as', 6), ('and', 6), ('not', 5), ('raise', 5), ('is', 5), ('with', 4), ('from', 3), ('else', 3), ('None', 2), ('assert', 1), ('yield', 1), ('try', 1), ('except', 1), ('del', 1)]\n"
     ]
    }
   ],
   "source": [
    "print(keyword_count('C:\\\\Users\\\\user\\\\Documents\\\\BigData2021\\\\mystery.py'))"
   ]
  },
  {
   "cell_type": "markdown",
   "id": "a6688be2",
   "metadata": {},
   "source": [
    "### [3] 아래와 같은 데이터 필드와 메서드를 갖는 클래스 RegularPolygon을 구현하시오. \n",
    "- 데이터 필드(기본값) : 변의 개수(3), 변의 길이(1) \n",
    "- 모든 데이터 필드에 대한 접근자(getter)와 변경자(setter) 메서드\n",
    "- 내각을 반환하는 메서드 : getIntAngle \n",
    "- 둘레를 반환하는 메서드 : getPerimeter \n",
    "- 면적을 반환하는 메서드 : getArea"
   ]
  },
  {
   "cell_type": "code",
   "execution_count": 28,
   "id": "5b7b789f",
   "metadata": {},
   "outputs": [],
   "source": [
    "import math"
   ]
  },
  {
   "cell_type": "code",
   "execution_count": 29,
   "id": "ac71b787",
   "metadata": {},
   "outputs": [],
   "source": [
    "class RegularPolygon:\n",
    "    \"\"\"\n",
    "정다각형(등변 & 등각)\n",
    "\n",
    "Parameters\n",
    "----------\n",
    "n : int, default : 3\n",
    "    변의 개수\n",
    "s : float, default : 1.0\n",
    "    변의 길이\n",
    "\"\"\"\n",
    "    def __init__(self, n=3, s=1.0):                                                              # 기본 값\n",
    "        self.__num = n\n",
    "        self.__side = s\n",
    "    \n",
    "    def get_num(self):                                                                           # 접근자 (변의 개수)\n",
    "        return self.__num\n",
    "    \n",
    "    def set_num(self,num):                                                                       # 변경자 (변의 개수)\n",
    "        self.num = num\n",
    "        \n",
    "    def get_side(self):                                                                          # 접근자 (변의 길이)\n",
    "        return self.__side\n",
    "    \n",
    "    def set_side(self,side):                                                                     # 변경자 (변의 길이)\n",
    "        self.side = side\n",
    "        \n",
    "    def getIntAngle(self):                                                                       # 내각\n",
    "        return 180 * (self.__num - 2) / self.__num\n",
    "    \n",
    "    def getPerimeter(self):                                                                      # 둘레\n",
    "        return self.__side * self.__num\n",
    "    \n",
    "    def getArea(self):                                                                           # 면적\n",
    "        return (self.__num * (self.__side **2)) / (4 * math.tan(math.pi/self.__num))\n",
    "    \n",
    "    def total(self):\n",
    "        print(\"변의 개수 = \",self.__num)\n",
    "        print(\"변의 길이 = \",self.__side)\n",
    "        print(\"내각 = \",self.getIntAngle(), \"도\")\n",
    "        print(\"둘레 = \",self.getPerimeter())\n",
    "        print(\"면적 = \",self.getArea())"
   ]
  },
  {
   "cell_type": "code",
   "execution_count": 31,
   "id": "7effc298",
   "metadata": {},
   "outputs": [],
   "source": [
    "RegularPolygon?"
   ]
  },
  {
   "cell_type": "markdown",
   "id": "579b5cac",
   "metadata": {},
   "source": [
    "### (a) RegularPolygon(6,3)을 사용하여 생성되는 객체에 대하여 변의 개수, 길이, 내각의 크기, 둘레, 넓이를 차례대로 출력하시오."
   ]
  },
  {
   "cell_type": "code",
   "execution_count": 32,
   "id": "7765f587",
   "metadata": {},
   "outputs": [
    {
     "name": "stdout",
     "output_type": "stream",
     "text": [
      "변의 개수 =  6\n",
      "변의 길이 =  3\n",
      "내각 =  120.0 도\n",
      "둘레 =  18\n",
      "면적 =  23.382685902179844\n"
     ]
    }
   ],
   "source": [
    "RegularPolygon(6,3).total()"
   ]
  },
  {
   "cell_type": "markdown",
   "id": "85eb0703",
   "metadata": {},
   "source": [
    "### (b) RegularPolygon(4) 객체에 대하여 위와 동일한 출력을 하시오."
   ]
  },
  {
   "cell_type": "code",
   "execution_count": 33,
   "id": "84e5e269",
   "metadata": {},
   "outputs": [
    {
     "name": "stdout",
     "output_type": "stream",
     "text": [
      "변의 개수 =  4\n",
      "변의 길이 =  1.0\n",
      "내각 =  90.0 도\n",
      "둘레 =  4.0\n",
      "면적 =  1.0000000000000002\n"
     ]
    }
   ],
   "source": [
    "RegularPolygon(4).total()"
   ]
  },
  {
   "cell_type": "markdown",
   "id": "af483b1e",
   "metadata": {},
   "source": [
    "### (c) RegularPolyon() 객체를 생성한 후, 변의 길이를 5로 지정하고 위와 동일한 출력을 하시오."
   ]
  },
  {
   "cell_type": "code",
   "execution_count": 34,
   "id": "280bcd90",
   "metadata": {},
   "outputs": [],
   "source": [
    "a = RegularPolygon()"
   ]
  },
  {
   "cell_type": "code",
   "execution_count": 35,
   "id": "e1917d38",
   "metadata": {},
   "outputs": [],
   "source": [
    "a.set_side(5)"
   ]
  },
  {
   "cell_type": "code",
   "execution_count": 36,
   "id": "1b01c823",
   "metadata": {},
   "outputs": [
    {
     "name": "stdout",
     "output_type": "stream",
     "text": [
      "변의 개수 =  3\n",
      "변의 길이 =  1.0\n",
      "내각 =  60.0 도\n",
      "둘레 =  3.0\n",
      "면적 =  0.43301270189221946\n"
     ]
    }
   ],
   "source": [
    "a.total()"
   ]
  }
 ],
 "metadata": {
  "kernelspec": {
   "display_name": "Python 3",
   "language": "python",
   "name": "python3"
  },
  "language_info": {
   "codemirror_mode": {
    "name": "ipython",
    "version": 3
   },
   "file_extension": ".py",
   "mimetype": "text/x-python",
   "name": "python",
   "nbconvert_exporter": "python",
   "pygments_lexer": "ipython3",
   "version": "3.8.8"
  }
 },
 "nbformat": 4,
 "nbformat_minor": 5
}
