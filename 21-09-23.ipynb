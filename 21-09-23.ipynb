{
 "cells": [
  {
   "cell_type": "markdown",
   "id": "10c16c8d",
   "metadata": {},
   "source": [
    "  # 숫자 리스트"
   ]
  },
  {
   "cell_type": "code",
   "execution_count": 1,
   "id": "e4144d99",
   "metadata": {},
   "outputs": [],
   "source": [
    "lst = [5,2,7,9.8,2]"
   ]
  },
  {
   "cell_type": "code",
   "execution_count": 2,
   "id": "3fdf82f5",
   "metadata": {},
   "outputs": [
    {
     "data": {
      "text/plain": [
       "list"
      ]
     },
     "execution_count": 2,
     "metadata": {},
     "output_type": "execute_result"
    }
   ],
   "source": [
    "type(lst)"
   ]
  },
  {
   "cell_type": "code",
   "execution_count": 3,
   "id": "c7e31f72",
   "metadata": {},
   "outputs": [],
   "source": [
    "lst.append(100) #마지막에 원소 추가"
   ]
  },
  {
   "cell_type": "code",
   "execution_count": 4,
   "id": "05bad888",
   "metadata": {},
   "outputs": [
    {
     "data": {
      "text/plain": [
       "[5, 2, 7, 9.8, 2, 100]"
      ]
     },
     "execution_count": 4,
     "metadata": {},
     "output_type": "execute_result"
    }
   ],
   "source": [
    "lst"
   ]
  },
  {
   "cell_type": "code",
   "execution_count": 5,
   "id": "9cc0badd",
   "metadata": {},
   "outputs": [],
   "source": [
    "lst.sort()  #lst 순서 바뀜"
   ]
  },
  {
   "cell_type": "code",
   "execution_count": 6,
   "id": "e5a8fcda",
   "metadata": {},
   "outputs": [
    {
     "data": {
      "text/plain": [
       "[2, 2, 5, 7, 9.8, 100]"
      ]
     },
     "execution_count": 6,
     "metadata": {},
     "output_type": "execute_result"
    }
   ],
   "source": [
    "lst"
   ]
  },
  {
   "cell_type": "code",
   "execution_count": 7,
   "id": "e7538ec0",
   "metadata": {},
   "outputs": [],
   "source": [
    "lst = [4,2,6,1]"
   ]
  },
  {
   "cell_type": "code",
   "execution_count": 8,
   "id": "a8f3256d",
   "metadata": {},
   "outputs": [
    {
     "data": {
      "text/plain": [
       "[1, 2, 4, 6]"
      ]
     },
     "execution_count": 8,
     "metadata": {},
     "output_type": "execute_result"
    }
   ],
   "source": [
    "sorted(lst)"
   ]
  },
  {
   "cell_type": "code",
   "execution_count": 9,
   "id": "a136fde3",
   "metadata": {},
   "outputs": [
    {
     "data": {
      "text/plain": [
       "[4, 2, 6, 1]"
      ]
     },
     "execution_count": 9,
     "metadata": {},
     "output_type": "execute_result"
    }
   ],
   "source": [
    "lst"
   ]
  },
  {
   "cell_type": "code",
   "execution_count": 10,
   "id": "024c6746",
   "metadata": {},
   "outputs": [],
   "source": [
    "a = sorted(lst) #sorted 값 저장"
   ]
  },
  {
   "cell_type": "code",
   "execution_count": 11,
   "id": "61dc133b",
   "metadata": {},
   "outputs": [
    {
     "data": {
      "text/plain": [
       "[1, 2, 4, 6]"
      ]
     },
     "execution_count": 11,
     "metadata": {},
     "output_type": "execute_result"
    }
   ],
   "source": [
    "a"
   ]
  },
  {
   "cell_type": "code",
   "execution_count": 12,
   "id": "41450aeb",
   "metadata": {},
   "outputs": [
    {
     "data": {
      "text/plain": [
       "[4, 2, 6, 1]"
      ]
     },
     "execution_count": 12,
     "metadata": {},
     "output_type": "execute_result"
    }
   ],
   "source": [
    "lst #원본"
   ]
  },
  {
   "cell_type": "code",
   "execution_count": 13,
   "id": "25f59ad0",
   "metadata": {},
   "outputs": [],
   "source": [
    "lst.sort?"
   ]
  },
  {
   "cell_type": "code",
   "execution_count": 14,
   "id": "e7c8ba44",
   "metadata": {},
   "outputs": [],
   "source": [
    "lst.sort(reverse = True) #reverse 역순"
   ]
  },
  {
   "cell_type": "code",
   "execution_count": 15,
   "id": "dc397ea6",
   "metadata": {},
   "outputs": [
    {
     "data": {
      "text/plain": [
       "[6, 4, 2, 1]"
      ]
     },
     "execution_count": 15,
     "metadata": {},
     "output_type": "execute_result"
    }
   ],
   "source": [
    "lst"
   ]
  },
  {
   "cell_type": "code",
   "execution_count": 17,
   "id": "0429e85d",
   "metadata": {},
   "outputs": [],
   "source": [
    "seq = [5,2,5,3,4,7,8]"
   ]
  },
  {
   "cell_type": "code",
   "execution_count": 18,
   "id": "52d455cd",
   "metadata": {},
   "outputs": [
    {
     "data": {
      "text/plain": [
       "[5, 3]"
      ]
     },
     "execution_count": 18,
     "metadata": {},
     "output_type": "execute_result"
    }
   ],
   "source": [
    "seq[2:4] #2부터 4까지지만 4는 포함 안함"
   ]
  },
  {
   "cell_type": "code",
   "execution_count": 19,
   "id": "b76e8017",
   "metadata": {},
   "outputs": [
    {
     "data": {
      "text/plain": [
       "[5, 2, 5]"
      ]
     },
     "execution_count": 19,
     "metadata": {},
     "output_type": "execute_result"
    }
   ],
   "source": [
    "seq[:3]"
   ]
  },
  {
   "cell_type": "code",
   "execution_count": 20,
   "id": "ae05049d",
   "metadata": {},
   "outputs": [
    {
     "data": {
      "text/plain": [
       "[3, 4, 7, 8]"
      ]
     },
     "execution_count": 20,
     "metadata": {},
     "output_type": "execute_result"
    }
   ],
   "source": [
    "seq[3:]"
   ]
  },
  {
   "cell_type": "markdown",
   "id": "03e1669d",
   "metadata": {},
   "source": [
    "# 2차원 리스트"
   ]
  },
  {
   "cell_type": "code",
   "execution_count": 21,
   "id": "3159770e",
   "metadata": {},
   "outputs": [],
   "source": [
    "m = [[1,2,3],[4,5,6]]"
   ]
  },
  {
   "cell_type": "code",
   "execution_count": 22,
   "id": "6e01013f",
   "metadata": {},
   "outputs": [
    {
     "data": {
      "text/plain": [
       "[[1, 2, 3], [4, 5, 6]]"
      ]
     },
     "execution_count": 22,
     "metadata": {},
     "output_type": "execute_result"
    }
   ],
   "source": [
    "m"
   ]
  },
  {
   "cell_type": "code",
   "execution_count": 23,
   "id": "19d6a71f",
   "metadata": {},
   "outputs": [
    {
     "data": {
      "text/plain": [
       "2"
      ]
     },
     "execution_count": 23,
     "metadata": {},
     "output_type": "execute_result"
    }
   ],
   "source": [
    "m[0][1] #0번째 행, 1번째 열"
   ]
  },
  {
   "cell_type": "code",
   "execution_count": 24,
   "id": "ad0d531d",
   "metadata": {},
   "outputs": [
    {
     "data": {
      "text/plain": [
       "[1, 2, 3]"
      ]
     },
     "execution_count": 24,
     "metadata": {},
     "output_type": "execute_result"
    }
   ],
   "source": [
    "m[0]"
   ]
  },
  {
   "cell_type": "markdown",
   "id": "f2940c95",
   "metadata": {},
   "source": [
    "# 튜플"
   ]
  },
  {
   "cell_type": "code",
   "execution_count": 1,
   "id": "c6a0bec2",
   "metadata": {},
   "outputs": [],
   "source": [
    "t = (4,5,6)"
   ]
  },
  {
   "cell_type": "code",
   "execution_count": 2,
   "id": "d934a3ae",
   "metadata": {},
   "outputs": [
    {
     "data": {
      "text/plain": [
       "tuple"
      ]
     },
     "execution_count": 2,
     "metadata": {},
     "output_type": "execute_result"
    }
   ],
   "source": [
    "type(t)"
   ]
  },
  {
   "cell_type": "code",
   "execution_count": 3,
   "id": "5f516ede",
   "metadata": {},
   "outputs": [],
   "source": [
    "a,b,c = t"
   ]
  },
  {
   "cell_type": "code",
   "execution_count": 4,
   "id": "cd474ec3",
   "metadata": {},
   "outputs": [
    {
     "data": {
      "text/plain": [
       "4"
      ]
     },
     "execution_count": 4,
     "metadata": {},
     "output_type": "execute_result"
    }
   ],
   "source": [
    "a  # a = 4, b = 5, c = 6"
   ]
  },
  {
   "cell_type": "code",
   "execution_count": 5,
   "id": "ad0313ef",
   "metadata": {},
   "outputs": [],
   "source": [
    "a, *rest = t  #a만 쓰고 rest를 안쓰려면 앞에 *"
   ]
  },
  {
   "cell_type": "code",
   "execution_count": 6,
   "id": "ba12838a",
   "metadata": {},
   "outputs": [
    {
     "data": {
      "text/plain": [
       "4"
      ]
     },
     "execution_count": 6,
     "metadata": {},
     "output_type": "execute_result"
    }
   ],
   "source": [
    "a"
   ]
  },
  {
   "cell_type": "code",
   "execution_count": 7,
   "id": "63b19202",
   "metadata": {},
   "outputs": [
    {
     "data": {
      "text/plain": [
       "[5, 6]"
      ]
     },
     "execution_count": 7,
     "metadata": {},
     "output_type": "execute_result"
    }
   ],
   "source": [
    "rest"
   ]
  },
  {
   "cell_type": "code",
   "execution_count": 8,
   "id": "4239d52f",
   "metadata": {},
   "outputs": [],
   "source": [
    "a, *_ = t"
   ]
  },
  {
   "cell_type": "code",
   "execution_count": 9,
   "id": "e097ac27",
   "metadata": {},
   "outputs": [
    {
     "data": {
      "text/plain": [
       "4"
      ]
     },
     "execution_count": 9,
     "metadata": {},
     "output_type": "execute_result"
    }
   ],
   "source": [
    "a"
   ]
  },
  {
   "cell_type": "code",
   "execution_count": 10,
   "id": "1399aa35",
   "metadata": {},
   "outputs": [
    {
     "data": {
      "text/plain": [
       "[5, 6]"
      ]
     },
     "execution_count": 10,
     "metadata": {},
     "output_type": "execute_result"
    }
   ],
   "source": [
    "rest"
   ]
  },
  {
   "cell_type": "markdown",
   "id": "052fb419",
   "metadata": {},
   "source": [
    "# 내장 순차 타입 함수"
   ]
  },
  {
   "cell_type": "code",
   "execution_count": 11,
   "id": "42c52716",
   "metadata": {},
   "outputs": [],
   "source": [
    "lst = [5,2,8,9,6]"
   ]
  },
  {
   "cell_type": "code",
   "execution_count": 15,
   "id": "75840b80",
   "metadata": {},
   "outputs": [
    {
     "name": "stdout",
     "output_type": "stream",
     "text": [
      "0 5\n",
      "1 2\n",
      "2 8\n",
      "3 9\n",
      "4 6\n"
     ]
    }
   ],
   "source": [
    "for i,x, in enumerate(lst):\n",
    "    print(i,x)\n",
    "    # 0번 5, 1번 2 ..."
   ]
  },
  {
   "cell_type": "code",
   "execution_count": 17,
   "id": "7ed7f7e7",
   "metadata": {},
   "outputs": [],
   "source": [
    "x = [2,4,6]; y = [100,200,300]  # 만약 x에 8을 추가로 넣으면 y에 짝이 없으니까 그냥 8은 버려짐"
   ]
  },
  {
   "cell_type": "code",
   "execution_count": 19,
   "id": "a5ab7f76",
   "metadata": {},
   "outputs": [
    {
     "name": "stdout",
     "output_type": "stream",
     "text": [
      "2 100\n",
      "4 200\n",
      "6 300\n"
     ]
    }
   ],
   "source": [
    "for a,b, in zip(x,y):  #a는 x의 원소, b는 y의 원소\n",
    "    print(a,b)"
   ]
  },
  {
   "cell_type": "markdown",
   "id": "1ea7619f",
   "metadata": {},
   "source": [
    "# 딕셔너리"
   ]
  },
  {
   "cell_type": "code",
   "execution_count": 21,
   "id": "7269055e",
   "metadata": {},
   "outputs": [],
   "source": [
    "d = {'한국':'서울', '일본':'동경', '중국':'북경'}"
   ]
  },
  {
   "cell_type": "code",
   "execution_count": 22,
   "id": "695fccf7",
   "metadata": {},
   "outputs": [
    {
     "data": {
      "text/plain": [
       "dict"
      ]
     },
     "execution_count": 22,
     "metadata": {},
     "output_type": "execute_result"
    }
   ],
   "source": [
    "type(d)"
   ]
  },
  {
   "cell_type": "code",
   "execution_count": 23,
   "id": "51ba0804",
   "metadata": {},
   "outputs": [
    {
     "data": {
      "text/plain": [
       "'북경'"
      ]
     },
     "execution_count": 23,
     "metadata": {},
     "output_type": "execute_result"
    }
   ],
   "source": [
    "d['중국']"
   ]
  },
  {
   "cell_type": "code",
   "execution_count": 24,
   "id": "b5bc68bf",
   "metadata": {},
   "outputs": [
    {
     "data": {
      "text/plain": [
       "'서울'"
      ]
     },
     "execution_count": 24,
     "metadata": {},
     "output_type": "execute_result"
    }
   ],
   "source": [
    "d['한국']"
   ]
  },
  {
   "cell_type": "code",
   "execution_count": 25,
   "id": "e996cd2f",
   "metadata": {},
   "outputs": [],
   "source": [
    "d['프랑스'] = '파리' #data 추가"
   ]
  },
  {
   "cell_type": "code",
   "execution_count": 26,
   "id": "903a061f",
   "metadata": {},
   "outputs": [
    {
     "data": {
      "text/plain": [
       "{'한국': '서울', '일본': '동경', '중국': '북경', '프랑스': '파리'}"
      ]
     },
     "execution_count": 26,
     "metadata": {},
     "output_type": "execute_result"
    }
   ],
   "source": [
    "d"
   ]
  },
  {
   "cell_type": "code",
   "execution_count": 32,
   "id": "f796005c",
   "metadata": {},
   "outputs": [],
   "source": [
    "del d['중국']  #삭제 #일본은 이미 삭제함(삭제한거 다시 돌렸다가 에러남)"
   ]
  },
  {
   "cell_type": "code",
   "execution_count": 33,
   "id": "60afcceb",
   "metadata": {},
   "outputs": [
    {
     "data": {
      "text/plain": [
       "{'한국': '서울', '프랑스': '파리'}"
      ]
     },
     "execution_count": 33,
     "metadata": {},
     "output_type": "execute_result"
    }
   ],
   "source": [
    "d"
   ]
  },
  {
   "cell_type": "code",
   "execution_count": 34,
   "id": "9ebd81b5",
   "metadata": {},
   "outputs": [
    {
     "data": {
      "text/plain": [
       "dict_keys(['한국', '프랑스'])"
      ]
     },
     "execution_count": 34,
     "metadata": {},
     "output_type": "execute_result"
    }
   ],
   "source": [
    "d.keys()"
   ]
  },
  {
   "cell_type": "code",
   "execution_count": 35,
   "id": "696c49df",
   "metadata": {},
   "outputs": [
    {
     "data": {
      "text/plain": [
       "dict_values(['서울', '파리'])"
      ]
     },
     "execution_count": 35,
     "metadata": {},
     "output_type": "execute_result"
    }
   ],
   "source": [
    "d.values()"
   ]
  },
  {
   "cell_type": "code",
   "execution_count": 36,
   "id": "04cffbfb",
   "metadata": {},
   "outputs": [
    {
     "data": {
      "text/plain": [
       "dict_items([('한국', '서울'), ('프랑스', '파리')])"
      ]
     },
     "execution_count": 36,
     "metadata": {},
     "output_type": "execute_result"
    }
   ],
   "source": [
    "d.items()"
   ]
  },
  {
   "cell_type": "code",
   "execution_count": 37,
   "id": "6248f3d1",
   "metadata": {},
   "outputs": [],
   "source": [
    "d['한국'] = 'Seoul' #수정"
   ]
  },
  {
   "cell_type": "code",
   "execution_count": 38,
   "id": "201c6f3d",
   "metadata": {},
   "outputs": [
    {
     "data": {
      "text/plain": [
       "{'한국': 'Seoul', '프랑스': '파리'}"
      ]
     },
     "execution_count": 38,
     "metadata": {},
     "output_type": "execute_result"
    }
   ],
   "source": [
    "d"
   ]
  },
  {
   "cell_type": "markdown",
   "id": "1488b866",
   "metadata": {},
   "source": [
    "# Set"
   ]
  },
  {
   "cell_type": "code",
   "execution_count": 39,
   "id": "3d6de6f6",
   "metadata": {},
   "outputs": [],
   "source": [
    "s1 = {1,2,3,3}"
   ]
  },
  {
   "cell_type": "code",
   "execution_count": 41,
   "id": "e52d485a",
   "metadata": {},
   "outputs": [
    {
     "data": {
      "text/plain": [
       "{1, 2, 3}"
      ]
     },
     "execution_count": 41,
     "metadata": {},
     "output_type": "execute_result"
    }
   ],
   "source": [
    "s1 #중복 X"
   ]
  },
  {
   "cell_type": "code",
   "execution_count": 42,
   "id": "50a767c1",
   "metadata": {},
   "outputs": [],
   "source": [
    "s2 = {2,3,4}"
   ]
  },
  {
   "cell_type": "code",
   "execution_count": 45,
   "id": "431deb6c",
   "metadata": {},
   "outputs": [
    {
     "data": {
      "text/plain": [
       "{1, 2, 3, 4}"
      ]
     },
     "execution_count": 45,
     "metadata": {},
     "output_type": "execute_result"
    }
   ],
   "source": [
    "s1.union(s2) #합집합"
   ]
  },
  {
   "cell_type": "code",
   "execution_count": 46,
   "id": "1ed05658",
   "metadata": {},
   "outputs": [
    {
     "data": {
      "text/plain": [
       "{2, 3}"
      ]
     },
     "execution_count": 46,
     "metadata": {},
     "output_type": "execute_result"
    }
   ],
   "source": [
    "s1.intersection(s2) #교집합"
   ]
  },
  {
   "cell_type": "code",
   "execution_count": 49,
   "id": "51f75ed8",
   "metadata": {},
   "outputs": [],
   "source": [
    "x = [a for a in range(5)] #range(5) = 0,1,2,3,4"
   ]
  },
  {
   "cell_type": "code",
   "execution_count": 50,
   "id": "e1d455aa",
   "metadata": {},
   "outputs": [
    {
     "data": {
      "text/plain": [
       "[0, 1, 2, 3, 4]"
      ]
     },
     "execution_count": 50,
     "metadata": {},
     "output_type": "execute_result"
    }
   ],
   "source": [
    "x"
   ]
  },
  {
   "cell_type": "code",
   "execution_count": 51,
   "id": "5a77adb9",
   "metadata": {},
   "outputs": [],
   "source": [
    "x = [a for a in range(5) if a % 2 == 0]"
   ]
  },
  {
   "cell_type": "code",
   "execution_count": 52,
   "id": "c922aca3",
   "metadata": {},
   "outputs": [
    {
     "data": {
      "text/plain": [
       "[0, 2, 4]"
      ]
     },
     "execution_count": 52,
     "metadata": {},
     "output_type": "execute_result"
    }
   ],
   "source": [
    "x"
   ]
  },
  {
   "cell_type": "code",
   "execution_count": 53,
   "id": "9f1740c7",
   "metadata": {},
   "outputs": [
    {
     "data": {
      "text/plain": [
       "['BAT', 'CAR', 'DOVE', 'PYTHON']"
      ]
     },
     "execution_count": 53,
     "metadata": {},
     "output_type": "execute_result"
    }
   ],
   "source": [
    "strings = ['a','as','bat','car','dove','python']\n",
    "[x.upper() for x in strings if len(x) > 2]"
   ]
  },
  {
   "cell_type": "markdown",
   "id": "b79f8355",
   "metadata": {},
   "source": [
    "# 제너레이터"
   ]
  },
  {
   "cell_type": "code",
   "execution_count": 54,
   "id": "e2e3a295",
   "metadata": {},
   "outputs": [],
   "source": [
    "def squares(n = 10):\n",
    "    for i in range(1, n+1):\n",
    "        yield i ** 2"
   ]
  },
  {
   "cell_type": "code",
   "execution_count": 55,
   "id": "6ee1c7e3",
   "metadata": {},
   "outputs": [
    {
     "data": {
      "text/plain": [
       "<generator object squares at 0x000001046601D580>"
      ]
     },
     "execution_count": 55,
     "metadata": {},
     "output_type": "execute_result"
    }
   ],
   "source": [
    "squares(5) #하나씩만 됨"
   ]
  },
  {
   "cell_type": "code",
   "execution_count": 56,
   "id": "a7b78c80",
   "metadata": {},
   "outputs": [
    {
     "name": "stdout",
     "output_type": "stream",
     "text": [
      "1\n",
      "4\n",
      "9\n",
      "16\n",
      "25\n"
     ]
    }
   ],
   "source": [
    "for x in squares(5):\n",
    "    print(x)"
   ]
  },
  {
   "cell_type": "code",
   "execution_count": null,
   "id": "5ee29467",
   "metadata": {},
   "outputs": [],
   "source": []
  }
 ],
 "metadata": {
  "kernelspec": {
   "display_name": "Python 3",
   "language": "python",
   "name": "python3"
  },
  "language_info": {
   "codemirror_mode": {
    "name": "ipython",
    "version": 3
   },
   "file_extension": ".py",
   "mimetype": "text/x-python",
   "name": "python",
   "nbconvert_exporter": "python",
   "pygments_lexer": "ipython3",
   "version": "3.8.8"
  }
 },
 "nbformat": 4,
 "nbformat_minor": 5
}
