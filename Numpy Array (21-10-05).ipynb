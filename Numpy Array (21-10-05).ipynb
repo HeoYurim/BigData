{
 "cells": [
  {
   "cell_type": "markdown",
   "id": "321da03d",
   "metadata": {},
   "source": [
    "## Numpy 배열 연산"
   ]
  },
  {
   "cell_type": "code",
   "execution_count": 2,
   "id": "3083f00f",
   "metadata": {},
   "outputs": [],
   "source": [
    "import numpy as np"
   ]
  },
  {
   "cell_type": "code",
   "execution_count": 3,
   "id": "f0cc640b",
   "metadata": {},
   "outputs": [],
   "source": [
    "a = np.array([1,2,3])"
   ]
  },
  {
   "cell_type": "code",
   "execution_count": 4,
   "id": "6b04034e",
   "metadata": {},
   "outputs": [],
   "source": [
    "b = np.array([5,5,5])  # np.full 함수도 사용 사능"
   ]
  },
  {
   "cell_type": "code",
   "execution_count": 5,
   "id": "bf782eb5",
   "metadata": {},
   "outputs": [
    {
     "data": {
      "text/plain": [
       "array([6, 7, 8])"
      ]
     },
     "execution_count": 5,
     "metadata": {},
     "output_type": "execute_result"
    }
   ],
   "source": [
    "a + b"
   ]
  },
  {
   "cell_type": "code",
   "execution_count": 6,
   "id": "7964c064",
   "metadata": {},
   "outputs": [
    {
     "data": {
      "text/plain": [
       "array([2, 3, 4])"
      ]
     },
     "execution_count": 6,
     "metadata": {},
     "output_type": "execute_result"
    }
   ],
   "source": [
    "(a + 1)"
   ]
  },
  {
   "cell_type": "code",
   "execution_count": 7,
   "id": "eb2e807e",
   "metadata": {},
   "outputs": [
    {
     "data": {
      "text/plain": [
       "array([ 4,  9, 16], dtype=int32)"
      ]
     },
     "execution_count": 7,
     "metadata": {},
     "output_type": "execute_result"
    }
   ],
   "source": [
    "(a + 1) ** 2"
   ]
  },
  {
   "cell_type": "code",
   "execution_count": 8,
   "id": "f2dc11f6",
   "metadata": {},
   "outputs": [
    {
     "data": {
      "text/plain": [
       "array([ 2.71828183,  7.3890561 , 20.08553692])"
      ]
     },
     "execution_count": 8,
     "metadata": {},
     "output_type": "execute_result"
    }
   ],
   "source": [
    "np.exp(a)  #익스포넨셜 값?"
   ]
  },
  {
   "cell_type": "code",
   "execution_count": 9,
   "id": "e9876a87",
   "metadata": {},
   "outputs": [
    {
     "data": {
      "text/plain": [
       "array([5, 6, 7])"
      ]
     },
     "execution_count": 9,
     "metadata": {},
     "output_type": "execute_result"
    }
   ],
   "source": [
    "np.arange(3) + 5"
   ]
  },
  {
   "cell_type": "code",
   "execution_count": 10,
   "id": "491d3856",
   "metadata": {},
   "outputs": [
    {
     "data": {
      "text/plain": [
       "array([[1., 2., 3.],\n",
       "       [1., 2., 3.],\n",
       "       [1., 2., 3.]])"
      ]
     },
     "execution_count": 10,
     "metadata": {},
     "output_type": "execute_result"
    }
   ],
   "source": [
    "np.ones((3,3)) + np.arange(3)"
   ]
  },
  {
   "cell_type": "code",
   "execution_count": 11,
   "id": "c760f653",
   "metadata": {},
   "outputs": [
    {
     "data": {
      "text/plain": [
       "array([[0, 1, 2],\n",
       "       [1, 2, 3],\n",
       "       [2, 3, 4]])"
      ]
     },
     "execution_count": 11,
     "metadata": {},
     "output_type": "execute_result"
    }
   ],
   "source": [
    "np.arange(3).reshape(3,1) + np.arange(3)"
   ]
  },
  {
   "cell_type": "markdown",
   "id": "b26598d6",
   "metadata": {},
   "source": [
    "##  Numpy  배열 집계"
   ]
  },
  {
   "cell_type": "code",
   "execution_count": 12,
   "id": "0899743c",
   "metadata": {},
   "outputs": [],
   "source": [
    "np.random.seed(0)"
   ]
  },
  {
   "cell_type": "code",
   "execution_count": 13,
   "id": "692e8a5f",
   "metadata": {},
   "outputs": [],
   "source": [
    "x = np.random.random(10)"
   ]
  },
  {
   "cell_type": "code",
   "execution_count": 14,
   "id": "9e0cda60",
   "metadata": {},
   "outputs": [
    {
     "data": {
      "text/plain": [
       "array([0.5488135 , 0.71518937, 0.60276338, 0.54488318, 0.4236548 ,\n",
       "       0.64589411, 0.43758721, 0.891773  , 0.96366276, 0.38344152])"
      ]
     },
     "execution_count": 14,
     "metadata": {},
     "output_type": "execute_result"
    }
   ],
   "source": [
    "x"
   ]
  },
  {
   "cell_type": "code",
   "execution_count": 15,
   "id": "ad89c13b",
   "metadata": {},
   "outputs": [
    {
     "data": {
      "text/plain": [
       "6.157662833145425"
      ]
     },
     "execution_count": 15,
     "metadata": {},
     "output_type": "execute_result"
    }
   ],
   "source": [
    "sum(x)"
   ]
  },
  {
   "cell_type": "code",
   "execution_count": 16,
   "id": "1fae4472",
   "metadata": {},
   "outputs": [
    {
     "data": {
      "text/plain": [
       "6.157662833145425"
      ]
     },
     "execution_count": 16,
     "metadata": {},
     "output_type": "execute_result"
    }
   ],
   "source": [
    "np.sum(x)"
   ]
  },
  {
   "cell_type": "code",
   "execution_count": 17,
   "id": "6802448e",
   "metadata": {},
   "outputs": [
    {
     "data": {
      "text/plain": [
       "6.157662833145425"
      ]
     },
     "execution_count": 17,
     "metadata": {},
     "output_type": "execute_result"
    }
   ],
   "source": [
    "x.sum()"
   ]
  },
  {
   "cell_type": "code",
   "execution_count": 18,
   "id": "ede4660d",
   "metadata": {},
   "outputs": [
    {
     "name": "stdout",
     "output_type": "stream",
     "text": [
      "Wall time: 995 µs\n"
     ]
    },
    {
     "data": {
      "text/plain": [
       "4962.657988754934"
      ]
     },
     "execution_count": 18,
     "metadata": {},
     "output_type": "execute_result"
    }
   ],
   "source": [
    "%time sum(np.random.random(10000))"
   ]
  },
  {
   "cell_type": "code",
   "execution_count": 19,
   "id": "5888fa39",
   "metadata": {},
   "outputs": [
    {
     "name": "stdout",
     "output_type": "stream",
     "text": [
      "797 µs ± 162 µs per loop (mean ± std. dev. of 7 runs, 1000 loops each)\n"
     ]
    }
   ],
   "source": [
    "%timeit sum(np.random.random(10000))"
   ]
  },
  {
   "cell_type": "code",
   "execution_count": 20,
   "id": "967a6ed5",
   "metadata": {},
   "outputs": [
    {
     "name": "stdout",
     "output_type": "stream",
     "text": [
      "76.8 µs ± 9.16 µs per loop (mean ± std. dev. of 7 runs, 10000 loops each)\n"
     ]
    }
   ],
   "source": [
    "%timeit np.sum(np.random.random(10000))"
   ]
  },
  {
   "cell_type": "code",
   "execution_count": 21,
   "id": "7562a68e",
   "metadata": {},
   "outputs": [],
   "source": [
    "y = np.array([[1,2],[3,4]])"
   ]
  },
  {
   "cell_type": "code",
   "execution_count": 22,
   "id": "3c179fff",
   "metadata": {},
   "outputs": [
    {
     "data": {
      "text/plain": [
       "array([[1, 2],\n",
       "       [3, 4]])"
      ]
     },
     "execution_count": 22,
     "metadata": {},
     "output_type": "execute_result"
    }
   ],
   "source": [
    "y"
   ]
  },
  {
   "cell_type": "code",
   "execution_count": 23,
   "id": "b9dff644",
   "metadata": {},
   "outputs": [
    {
     "data": {
      "text/plain": [
       "10"
      ]
     },
     "execution_count": 23,
     "metadata": {},
     "output_type": "execute_result"
    }
   ],
   "source": [
    "np.sum(y)"
   ]
  },
  {
   "cell_type": "code",
   "execution_count": 24,
   "id": "8eb55e06",
   "metadata": {},
   "outputs": [
    {
     "data": {
      "text/plain": [
       "array([4, 6])"
      ]
     },
     "execution_count": 24,
     "metadata": {},
     "output_type": "execute_result"
    }
   ],
   "source": [
    "np.sum(y, axis = 0) # 열별 합(colum sum)"
   ]
  },
  {
   "cell_type": "code",
   "execution_count": 25,
   "id": "34c04d3f",
   "metadata": {},
   "outputs": [
    {
     "data": {
      "text/plain": [
       "array([3, 7])"
      ]
     },
     "execution_count": 25,
     "metadata": {},
     "output_type": "execute_result"
    }
   ],
   "source": [
    "np.sum(y, axis = 1) # 행별 합"
   ]
  },
  {
   "cell_type": "code",
   "execution_count": 26,
   "id": "81adc9f3",
   "metadata": {},
   "outputs": [],
   "source": [
    "t = np.array([5,2,8,5,1])"
   ]
  },
  {
   "cell_type": "code",
   "execution_count": 27,
   "id": "513fa6e1",
   "metadata": {},
   "outputs": [
    {
     "data": {
      "text/plain": [
       "8"
      ]
     },
     "execution_count": 27,
     "metadata": {},
     "output_type": "execute_result"
    }
   ],
   "source": [
    "np.max(t)"
   ]
  },
  {
   "cell_type": "code",
   "execution_count": 28,
   "id": "40b25e3f",
   "metadata": {},
   "outputs": [
    {
     "data": {
      "text/plain": [
       "2"
      ]
     },
     "execution_count": 28,
     "metadata": {},
     "output_type": "execute_result"
    }
   ],
   "source": [
    "np.argmax(t)  #인덱스 값 8의 순서가 0,1,2 2번째라 2"
   ]
  },
  {
   "cell_type": "code",
   "execution_count": 29,
   "id": "d3a33196",
   "metadata": {},
   "outputs": [],
   "source": [
    "t = np.array([5,2,8,5,1], dtype = np.float64)"
   ]
  },
  {
   "cell_type": "code",
   "execution_count": 30,
   "id": "198949ef",
   "metadata": {},
   "outputs": [
    {
     "data": {
      "text/plain": [
       "dtype('float64')"
      ]
     },
     "execution_count": 30,
     "metadata": {},
     "output_type": "execute_result"
    }
   ],
   "source": [
    "t.dtype"
   ]
  },
  {
   "cell_type": "code",
   "execution_count": 31,
   "id": "0cdb96fb",
   "metadata": {},
   "outputs": [],
   "source": [
    "t[0] = np.NaN"
   ]
  },
  {
   "cell_type": "code",
   "execution_count": 32,
   "id": "68df2f2f",
   "metadata": {},
   "outputs": [
    {
     "data": {
      "text/plain": [
       "array([nan,  2.,  8.,  5.,  1.])"
      ]
     },
     "execution_count": 32,
     "metadata": {},
     "output_type": "execute_result"
    }
   ],
   "source": [
    "t"
   ]
  },
  {
   "cell_type": "code",
   "execution_count": 33,
   "id": "e41d0287",
   "metadata": {},
   "outputs": [
    {
     "data": {
      "text/plain": [
       "nan"
      ]
     },
     "execution_count": 33,
     "metadata": {},
     "output_type": "execute_result"
    }
   ],
   "source": [
    "np.sum(t)"
   ]
  },
  {
   "cell_type": "code",
   "execution_count": 34,
   "id": "b1a36acc",
   "metadata": {},
   "outputs": [
    {
     "data": {
      "text/plain": [
       "16.0"
      ]
     },
     "execution_count": 34,
     "metadata": {},
     "output_type": "execute_result"
    }
   ],
   "source": [
    "np.nansum(t)  #nan = Not a Number #nansum은 nan 값 제외한 나머지"
   ]
  },
  {
   "cell_type": "code",
   "execution_count": 35,
   "id": "7046fcd3",
   "metadata": {},
   "outputs": [],
   "source": [
    "x = np.array([4,2,6,7,3.3])"
   ]
  },
  {
   "cell_type": "code",
   "execution_count": 36,
   "id": "b246701b",
   "metadata": {},
   "outputs": [],
   "source": [
    "z = (x - np.mean(x)) / np.std(x)"
   ]
  },
  {
   "cell_type": "code",
   "execution_count": 37,
   "id": "880d8d59",
   "metadata": {},
   "outputs": [
    {
     "data": {
      "text/plain": [
       "array([-0.25374507, -1.35698453,  0.84949438,  1.40111411, -0.63987888])"
      ]
     },
     "execution_count": 37,
     "metadata": {},
     "output_type": "execute_result"
    }
   ],
   "source": [
    "z"
   ]
  },
  {
   "cell_type": "code",
   "execution_count": 38,
   "id": "de3fb6a3",
   "metadata": {},
   "outputs": [
    {
     "data": {
      "text/plain": [
       "-4.4408920985006264e-17"
      ]
     },
     "execution_count": 38,
     "metadata": {},
     "output_type": "execute_result"
    }
   ],
   "source": [
    "z.mean()"
   ]
  },
  {
   "cell_type": "code",
   "execution_count": 39,
   "id": "c4357675",
   "metadata": {},
   "outputs": [
    {
     "data": {
      "text/plain": [
       "1.0"
      ]
     },
     "execution_count": 39,
     "metadata": {},
     "output_type": "execute_result"
    }
   ],
   "source": [
    "z.std()"
   ]
  },
  {
   "cell_type": "code",
   "execution_count": 40,
   "id": "20ee34da",
   "metadata": {},
   "outputs": [],
   "source": [
    "X = np.random.randint(0, 100, (10,2))"
   ]
  },
  {
   "cell_type": "code",
   "execution_count": 41,
   "id": "1d053bc5",
   "metadata": {},
   "outputs": [
    {
     "data": {
      "text/plain": [
       "array([[89, 96],\n",
       "       [20, 38],\n",
       "       [45, 18],\n",
       "       [51, 65],\n",
       "       [90, 76],\n",
       "       [ 7, 14],\n",
       "       [34, 83],\n",
       "       [95,  3],\n",
       "       [35, 14],\n",
       "       [86, 76]])"
      ]
     },
     "execution_count": 41,
     "metadata": {},
     "output_type": "execute_result"
    }
   ],
   "source": [
    "X"
   ]
  },
  {
   "cell_type": "code",
   "execution_count": 42,
   "id": "80004803",
   "metadata": {},
   "outputs": [],
   "source": [
    "avgs = np.mean(X, axis = 0)"
   ]
  },
  {
   "cell_type": "code",
   "execution_count": 43,
   "id": "44086ebc",
   "metadata": {},
   "outputs": [
    {
     "data": {
      "text/plain": [
       "array([55.2, 48.3])"
      ]
     },
     "execution_count": 43,
     "metadata": {},
     "output_type": "execute_result"
    }
   ],
   "source": [
    "avgs"
   ]
  },
  {
   "cell_type": "code",
   "execution_count": 44,
   "id": "a9a19e75",
   "metadata": {},
   "outputs": [],
   "source": [
    "sds = np.std(X, axis = 0)"
   ]
  },
  {
   "cell_type": "code",
   "execution_count": 45,
   "id": "21a49457",
   "metadata": {},
   "outputs": [
    {
     "data": {
      "text/plain": [
       "array([30.70439708, 32.74461788])"
      ]
     },
     "execution_count": 45,
     "metadata": {},
     "output_type": "execute_result"
    }
   ],
   "source": [
    "sds  # 표준편차"
   ]
  },
  {
   "cell_type": "code",
   "execution_count": 46,
   "id": "44a10ac4",
   "metadata": {},
   "outputs": [],
   "source": [
    "Z = (X - avgs) / sds"
   ]
  },
  {
   "cell_type": "code",
   "execution_count": 47,
   "id": "4d8f21cf",
   "metadata": {},
   "outputs": [
    {
     "data": {
      "text/plain": [
       "array([[ 1.10081953,  1.45672795],\n",
       "       [-1.14641561, -0.31455551],\n",
       "       [-0.33219998, -0.92534291],\n",
       "       [-0.13678823,  0.51000748],\n",
       "       [ 1.13338816,  0.84594055],\n",
       "       [-1.56980773, -1.04750039],\n",
       "       [-0.69045485,  1.05971614],\n",
       "       [ 1.29623128, -1.38343346],\n",
       "       [-0.65788623, -1.04750039],\n",
       "       [ 1.00311366,  0.84594055]])"
      ]
     },
     "execution_count": 47,
     "metadata": {},
     "output_type": "execute_result"
    }
   ],
   "source": [
    "Z"
   ]
  },
  {
   "cell_type": "markdown",
   "id": "ec7ec73b",
   "metadata": {},
   "source": [
    "## 비교, 마스크, 부울 로직"
   ]
  },
  {
   "cell_type": "code",
   "execution_count": 48,
   "id": "8e8ff7ef",
   "metadata": {},
   "outputs": [],
   "source": [
    "x = np.arange(7)"
   ]
  },
  {
   "cell_type": "code",
   "execution_count": 49,
   "id": "b887d006",
   "metadata": {},
   "outputs": [
    {
     "data": {
      "text/plain": [
       "array([0, 1, 2, 3, 4, 5, 6])"
      ]
     },
     "execution_count": 49,
     "metadata": {},
     "output_type": "execute_result"
    }
   ],
   "source": [
    "x"
   ]
  },
  {
   "cell_type": "code",
   "execution_count": 50,
   "id": "f6069669",
   "metadata": {},
   "outputs": [
    {
     "data": {
      "text/plain": [
       "array([ True,  True,  True, False, False, False, False])"
      ]
     },
     "execution_count": 50,
     "metadata": {},
     "output_type": "execute_result"
    }
   ],
   "source": [
    "x < 3"
   ]
  },
  {
   "cell_type": "code",
   "execution_count": 52,
   "id": "b08b77c0",
   "metadata": {},
   "outputs": [
    {
     "data": {
      "text/plain": [
       "array([1, 1, 1, 0, 0, 0, 0])"
      ]
     },
     "execution_count": 52,
     "metadata": {},
     "output_type": "execute_result"
    }
   ],
   "source": [
    "np.where(x < 3, 1, 0) # x라는 배열의 각각의 원소에 대해서 그 원소가 3보다 작으면 1, 3보다 크거나 같으면 0"
   ]
  },
  {
   "cell_type": "code",
   "execution_count": 55,
   "id": "e11b000c",
   "metadata": {},
   "outputs": [
    {
     "data": {
      "text/plain": [
       "array([0, 1, 2])"
      ]
     },
     "execution_count": 55,
     "metadata": {},
     "output_type": "execute_result"
    }
   ],
   "source": [
    "x[x < 3]"
   ]
  },
  {
   "cell_type": "code",
   "execution_count": 56,
   "id": "e8936884",
   "metadata": {},
   "outputs": [],
   "source": [
    "a = np.array([[0,1],[2,3]])"
   ]
  },
  {
   "cell_type": "code",
   "execution_count": 57,
   "id": "c1c0dc3e",
   "metadata": {},
   "outputs": [],
   "source": [
    "b = np.array([[1,1],[4,0]])"
   ]
  },
  {
   "cell_type": "code",
   "execution_count": 58,
   "id": "727769e5",
   "metadata": {},
   "outputs": [
    {
     "data": {
      "text/plain": [
       "array([[0, 1],\n",
       "       [2, 3]])"
      ]
     },
     "execution_count": 58,
     "metadata": {},
     "output_type": "execute_result"
    }
   ],
   "source": [
    "a"
   ]
  },
  {
   "cell_type": "code",
   "execution_count": 59,
   "id": "70128bb0",
   "metadata": {},
   "outputs": [
    {
     "data": {
      "text/plain": [
       "array([[1, 1],\n",
       "       [4, 0]])"
      ]
     },
     "execution_count": 59,
     "metadata": {},
     "output_type": "execute_result"
    }
   ],
   "source": [
    "b"
   ]
  },
  {
   "cell_type": "code",
   "execution_count": 60,
   "id": "deb2582e",
   "metadata": {},
   "outputs": [
    {
     "data": {
      "text/plain": [
       "array([[ 4,  0],\n",
       "       [14,  2]])"
      ]
     },
     "execution_count": 60,
     "metadata": {},
     "output_type": "execute_result"
    }
   ],
   "source": [
    "a @ b"
   ]
  },
  {
   "cell_type": "code",
   "execution_count": null,
   "id": "776f59c1",
   "metadata": {},
   "outputs": [],
   "source": []
  }
 ],
 "metadata": {
  "kernelspec": {
   "display_name": "Python 3",
   "language": "python",
   "name": "python3"
  },
  "language_info": {
   "codemirror_mode": {
    "name": "ipython",
    "version": 3
   },
   "file_extension": ".py",
   "mimetype": "text/x-python",
   "name": "python",
   "nbconvert_exporter": "python",
   "pygments_lexer": "ipython3",
   "version": "3.8.8"
  }
 },
 "nbformat": 4,
 "nbformat_minor": 5
}
