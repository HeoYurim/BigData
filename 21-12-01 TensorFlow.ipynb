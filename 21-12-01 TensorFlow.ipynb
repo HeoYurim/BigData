{
 "cells": [
  {
   "cell_type": "code",
   "execution_count": 1,
   "id": "5a8dc7e2",
   "metadata": {},
   "outputs": [],
   "source": [
    "import tensorflow as tf"
   ]
  },
  {
   "cell_type": "code",
   "execution_count": 2,
   "id": "c2286a06",
   "metadata": {},
   "outputs": [],
   "source": [
    "t = tf.convert_to_tensor([[1,2,3],[4,5,6]])"
   ]
  },
  {
   "cell_type": "code",
   "execution_count": 3,
   "id": "ff96dd65",
   "metadata": {},
   "outputs": [
    {
     "data": {
      "text/plain": [
       "tensorflow.python.framework.ops.EagerTensor"
      ]
     },
     "execution_count": 3,
     "metadata": {},
     "output_type": "execute_result"
    }
   ],
   "source": [
    "type(t)"
   ]
  },
  {
   "cell_type": "code",
   "execution_count": 4,
   "id": "fa3ba87b",
   "metadata": {},
   "outputs": [
    {
     "data": {
      "text/plain": [
       "<tf.Tensor: shape=(2, 3), dtype=int32, numpy=\n",
       "array([[1, 2, 3],\n",
       "       [4, 5, 6]])>"
      ]
     },
     "execution_count": 4,
     "metadata": {},
     "output_type": "execute_result"
    }
   ],
   "source": [
    "t"
   ]
  },
  {
   "cell_type": "code",
   "execution_count": 5,
   "id": "37027252",
   "metadata": {},
   "outputs": [
    {
     "data": {
      "text/plain": [
       "array([[1, 2, 3],\n",
       "       [4, 5, 6]])"
      ]
     },
     "execution_count": 5,
     "metadata": {},
     "output_type": "execute_result"
    }
   ],
   "source": [
    "t.numpy()"
   ]
  },
  {
   "cell_type": "code",
   "execution_count": 6,
   "id": "321aafec",
   "metadata": {},
   "outputs": [],
   "source": [
    "t_float = tf.cast(t, dtype=tf.float32)"
   ]
  },
  {
   "cell_type": "code",
   "execution_count": 7,
   "id": "1f7e8f76",
   "metadata": {},
   "outputs": [
    {
     "data": {
      "text/plain": [
       "<tf.Tensor: shape=(2, 3), dtype=float32, numpy=\n",
       "array([[1., 2., 3.],\n",
       "       [4., 5., 6.]], dtype=float32)>"
      ]
     },
     "execution_count": 7,
     "metadata": {},
     "output_type": "execute_result"
    }
   ],
   "source": [
    "t_float"
   ]
  },
  {
   "cell_type": "markdown",
   "id": "2ac66985",
   "metadata": {},
   "source": [
    "#### 텐서플로 데이터셋"
   ]
  },
  {
   "cell_type": "code",
   "execution_count": 8,
   "id": "e3d11206",
   "metadata": {},
   "outputs": [],
   "source": [
    "ds = tf.data.Dataset.from_tensor_slices([5,2,7,9,3])"
   ]
  },
  {
   "cell_type": "code",
   "execution_count": 9,
   "id": "1741c396",
   "metadata": {},
   "outputs": [
    {
     "data": {
      "text/plain": [
       "<TensorSliceDataset shapes: (), types: tf.int32>"
      ]
     },
     "execution_count": 9,
     "metadata": {},
     "output_type": "execute_result"
    }
   ],
   "source": [
    "ds"
   ]
  },
  {
   "cell_type": "code",
   "execution_count": 10,
   "id": "b6767823",
   "metadata": {},
   "outputs": [
    {
     "name": "stdout",
     "output_type": "stream",
     "text": [
      "tf.Tensor(5, shape=(), dtype=int32)\n",
      "tf.Tensor(2, shape=(), dtype=int32)\n",
      "tf.Tensor(7, shape=(), dtype=int32)\n",
      "tf.Tensor(9, shape=(), dtype=int32)\n",
      "tf.Tensor(3, shape=(), dtype=int32)\n"
     ]
    }
   ],
   "source": [
    "for ex in ds:\n",
    "    print(ex)"
   ]
  },
  {
   "cell_type": "code",
   "execution_count": 11,
   "id": "0b56a347",
   "metadata": {},
   "outputs": [],
   "source": [
    "#지도학습 : 특성행렬, 레이블벡터"
   ]
  },
  {
   "cell_type": "code",
   "execution_count": 12,
   "id": "32e9eb30",
   "metadata": {},
   "outputs": [],
   "source": [
    "#두 개의 데이터셋을 하나의 데이터셋으로 연결하기 : X에 y 붙이기\n",
    "X = tf.data.Dataset.from_tensor_slices([[1,2,3],[4,5,6],[9,9,9]])"
   ]
  },
  {
   "cell_type": "code",
   "execution_count": 13,
   "id": "a83ff063",
   "metadata": {},
   "outputs": [],
   "source": [
    "y = tf.data.Dataset.from_tensor_slices([0,1,0])"
   ]
  },
  {
   "cell_type": "code",
   "execution_count": 14,
   "id": "935ec6c0",
   "metadata": {},
   "outputs": [],
   "source": [
    "my_ds = tf.data.Dataset.zip((X,y))"
   ]
  },
  {
   "cell_type": "code",
   "execution_count": 15,
   "id": "dc7ca16f",
   "metadata": {},
   "outputs": [
    {
     "data": {
      "text/plain": [
       "<ZipDataset shapes: ((3,), ()), types: (tf.int32, tf.int32)>"
      ]
     },
     "execution_count": 15,
     "metadata": {},
     "output_type": "execute_result"
    }
   ],
   "source": [
    "my_ds"
   ]
  },
  {
   "cell_type": "code",
   "execution_count": 16,
   "id": "1f2ca085",
   "metadata": {},
   "outputs": [
    {
     "name": "stdout",
     "output_type": "stream",
     "text": [
      "(<tf.Tensor: shape=(3,), dtype=int32, numpy=array([1, 2, 3])>, <tf.Tensor: shape=(), dtype=int32, numpy=0>)\n",
      "(<tf.Tensor: shape=(3,), dtype=int32, numpy=array([4, 5, 6])>, <tf.Tensor: shape=(), dtype=int32, numpy=1>)\n",
      "(<tf.Tensor: shape=(3,), dtype=int32, numpy=array([9, 9, 9])>, <tf.Tensor: shape=(), dtype=int32, numpy=0>)\n"
     ]
    }
   ],
   "source": [
    "for ex in my_ds:\n",
    "    print(ex)"
   ]
  },
  {
   "cell_type": "code",
   "execution_count": 17,
   "id": "7d0b2e0a",
   "metadata": {},
   "outputs": [
    {
     "name": "stdout",
     "output_type": "stream",
     "text": [
      "[1 2 3] 0\n",
      "[4 5 6] 1\n",
      "[9 9 9] 0\n"
     ]
    }
   ],
   "source": [
    "for ex in my_ds:\n",
    "    print(ex[0].numpy(), ex[1].numpy())"
   ]
  },
  {
   "cell_type": "markdown",
   "id": "31d028e8",
   "metadata": {},
   "source": [
    "#### 텐서플로 데이터셋 API"
   ]
  },
  {
   "cell_type": "code",
   "execution_count": 18,
   "id": "aac5729f",
   "metadata": {},
   "outputs": [],
   "source": [
    "import numpy as np\n",
    "import tensorflow as tf"
   ]
  },
  {
   "cell_type": "code",
   "execution_count": 19,
   "id": "e81da432",
   "metadata": {},
   "outputs": [],
   "source": [
    "ds_x = tf.data.Dataset.from_tensor_slices([[1,2],[3,4],[5,6],[7,8],[9,10.0]])"
   ]
  },
  {
   "cell_type": "code",
   "execution_count": 20,
   "id": "29b5f060",
   "metadata": {},
   "outputs": [],
   "source": [
    "ds_y = tf.data.Dataset.from_tensor_slices([0,1,2,3,4])"
   ]
  },
  {
   "cell_type": "code",
   "execution_count": 21,
   "id": "78dbe9b7",
   "metadata": {},
   "outputs": [],
   "source": [
    "ds_joint = tf.data.Dataset.zip((ds_x, ds_y)) #연결"
   ]
  },
  {
   "cell_type": "code",
   "execution_count": 22,
   "id": "da1e2a93",
   "metadata": {},
   "outputs": [],
   "source": [
    "def display(d):\n",
    "    for ex in d:\n",
    "        print(ex[0].numpy(),ex[1].numpy())"
   ]
  },
  {
   "cell_type": "code",
   "execution_count": 23,
   "id": "85378f5c",
   "metadata": {},
   "outputs": [
    {
     "name": "stdout",
     "output_type": "stream",
     "text": [
      "[1. 2.] 0\n",
      "[3. 4.] 1\n",
      "[5. 6.] 2\n",
      "[7. 8.] 3\n",
      "[ 9. 10.] 4\n"
     ]
    }
   ],
   "source": [
    "display(ds_joint)"
   ]
  },
  {
   "cell_type": "code",
   "execution_count": 24,
   "id": "7979e6cf",
   "metadata": {},
   "outputs": [],
   "source": [
    "ds_map = ds_joint.map(lambda x, y: (x/10.0, y))"
   ]
  },
  {
   "cell_type": "code",
   "execution_count": 25,
   "id": "7ba7b4a9",
   "metadata": {},
   "outputs": [
    {
     "name": "stdout",
     "output_type": "stream",
     "text": [
      "[0.1 0.2] 0\n",
      "[0.3 0.4] 1\n",
      "[0.5 0.6] 2\n",
      "[0.7 0.8] 3\n",
      "[0.9 1. ] 4\n"
     ]
    }
   ],
   "source": [
    "display(ds_map)"
   ]
  },
  {
   "cell_type": "code",
   "execution_count": 26,
   "id": "95291ba1",
   "metadata": {},
   "outputs": [],
   "source": [
    "ds = ds_map.shuffle(buffer_size = 100)"
   ]
  },
  {
   "cell_type": "code",
   "execution_count": 27,
   "id": "c556030d",
   "metadata": {},
   "outputs": [
    {
     "name": "stdout",
     "output_type": "stream",
     "text": [
      "[0.1 0.2] 0\n",
      "[0.7 0.8] 3\n",
      "[0.5 0.6] 2\n",
      "[0.3 0.4] 1\n",
      "[0.9 1. ] 4\n"
     ]
    }
   ],
   "source": [
    "display(ds)"
   ]
  },
  {
   "cell_type": "code",
   "execution_count": 28,
   "id": "8a47642b",
   "metadata": {},
   "outputs": [],
   "source": [
    "ds_batch = ds.batch(batch_size = 2)"
   ]
  },
  {
   "cell_type": "code",
   "execution_count": 29,
   "id": "30c56a1b",
   "metadata": {},
   "outputs": [
    {
     "name": "stdout",
     "output_type": "stream",
     "text": [
      "[[0.7 0.8]\n",
      " [0.1 0.2]] [3 0]\n",
      "[[0.3 0.4]\n",
      " [0.9 1. ]] [1 4]\n",
      "[[0.5 0.6]] [2]\n"
     ]
    }
   ],
   "source": [
    "display(ds_batch) # [[0.7 0.8] [0.9 1. ]] [3 4] 첫번째 batxh, [[0.5 0.6] [0.3 0.4]] [2 1] 두번째 batch, 마지막은 써도 괜찮 안써도 괜찮"
   ]
  },
  {
   "cell_type": "code",
   "execution_count": 30,
   "id": "e792bfe3",
   "metadata": {},
   "outputs": [],
   "source": [
    "import tensorflow_datasets as tfds"
   ]
  },
  {
   "cell_type": "code",
   "execution_count": 31,
   "id": "40dc5b8a",
   "metadata": {},
   "outputs": [],
   "source": [
    "iris = tfds.load('iris')"
   ]
  },
  {
   "cell_type": "code",
   "execution_count": 32,
   "id": "11ba5132",
   "metadata": {},
   "outputs": [
    {
     "data": {
      "text/plain": [
       "dict"
      ]
     },
     "execution_count": 32,
     "metadata": {},
     "output_type": "execute_result"
    }
   ],
   "source": [
    "type(iris)"
   ]
  },
  {
   "cell_type": "code",
   "execution_count": 33,
   "id": "4ed257a5",
   "metadata": {},
   "outputs": [
    {
     "data": {
      "text/plain": [
       "{'train': <PrefetchDataset shapes: {features: (4,), label: ()}, types: {features: tf.float32, label: tf.int64}>}"
      ]
     },
     "execution_count": 33,
     "metadata": {},
     "output_type": "execute_result"
    }
   ],
   "source": [
    "iris # features: (4,), label: ()은 딕셔너리"
   ]
  },
  {
   "cell_type": "code",
   "execution_count": 34,
   "id": "a28e93b3",
   "metadata": {},
   "outputs": [],
   "source": [
    "ds = iris['train'] #150개를 train이라는 value로 줬기 때문에 train으로 씀"
   ]
  },
  {
   "cell_type": "code",
   "execution_count": 35,
   "id": "51828a67",
   "metadata": {},
   "outputs": [],
   "source": [
    "ds = ds.shuffle(buffer_size=150, reshuffle_each_iteration=False)"
   ]
  },
  {
   "cell_type": "code",
   "execution_count": 36,
   "id": "fe353374",
   "metadata": {},
   "outputs": [],
   "source": [
    "ds_train = ds.take(100)\n",
    "ds_test = ds.skip(100)"
   ]
  },
  {
   "cell_type": "code",
   "execution_count": 37,
   "id": "21fd5a59",
   "metadata": {},
   "outputs": [],
   "source": [
    "ds_train = ds_train.map(lambda x: (x['features'], x['label'])) # x라는 딕셔너리에서 feature과 label을 뽑아냄\n",
    "ds_test = ds_test.map(lambda x: (x['features'], x['label'])) # x라는 딕셔너리에서 feature과 label을 뽑아냄"
   ]
  },
  {
   "cell_type": "code",
   "execution_count": 38,
   "id": "7b273dbb",
   "metadata": {},
   "outputs": [],
   "source": [
    "iris_mlp = tf.keras.Sequential([ \n",
    "    tf.keras.layers.Dense(16, input_shape=(4,), activation='sigmoid'), \n",
    "    tf.keras.layers.Dense(3, activation='softmax')])\n",
    "iris_mlp.compile(optimizer='adam',\n",
    "    loss='sparse_categorical_crossentropy',metrics=['accuracy'])"
   ]
  },
  {
   "cell_type": "code",
   "execution_count": 39,
   "id": "2944e3cf",
   "metadata": {},
   "outputs": [],
   "source": [
    "TRAIN_SIZE = 100\n",
    "NUM_EPOCH = 50\n",
    "BATCH_SIZE = 2\n",
    "STEPS_PER_EPOCH = TRAIN_SIZE / BATCH_SIZE"
   ]
  },
  {
   "cell_type": "code",
   "execution_count": 40,
   "id": "368a3691",
   "metadata": {},
   "outputs": [],
   "source": [
    "ds_train = ds_train.shuffle(TRAIN_SIZE).batch(BATCH_SIZE)"
   ]
  },
  {
   "cell_type": "code",
   "execution_count": 41,
   "id": "6cc7c33e",
   "metadata": {},
   "outputs": [
    {
     "name": "stdout",
     "output_type": "stream",
     "text": [
      "Epoch 1/50\n",
      "50/50 [==============================] - 0s 1ms/step - loss: 1.3192 - accuracy: 0.3800 \n",
      "Epoch 2/50\n",
      "50/50 [==============================] - 0s 1ms/step - loss: 1.1640 - accuracy: 0.3800\n",
      "Epoch 3/50\n",
      "50/50 [==============================] - 0s 1ms/step - loss: 1.1113 - accuracy: 0.3800\n",
      "Epoch 4/50\n",
      "50/50 [==============================] - 0s 997us/step - loss: 1.0781 - accuracy: 0.3900\n",
      "Epoch 5/50\n",
      "50/50 [==============================] - 0s 1ms/step - loss: 1.0466 - accuracy: 0.4700\n",
      "Epoch 6/50\n",
      "50/50 [==============================] - 0s 855us/step - loss: 1.0225 - accuracy: 0.4400\n",
      "Epoch 7/50\n",
      "50/50 [==============================] - 0s 997us/step - loss: 0.9958 - accuracy: 0.5600\n",
      "Epoch 8/50\n",
      "50/50 [==============================] - 0s 957us/step - loss: 0.9639 - accuracy: 0.7600\n",
      "Epoch 9/50\n",
      "50/50 [==============================] - 0s 1ms/step - loss: 0.9351 - accuracy: 0.8000\n",
      "Epoch 10/50\n",
      "50/50 [==============================] - 0s 1ms/step - loss: 0.8969 - accuracy: 0.9300\n",
      "Epoch 11/50\n",
      "50/50 [==============================] - 0s 1ms/step - loss: 0.8655 - accuracy: 0.9100\n",
      "Epoch 12/50\n",
      "50/50 [==============================] - 0s 957us/step - loss: 0.8312 - accuracy: 0.8200\n",
      "Epoch 13/50\n",
      "50/50 [==============================] - 0s 916us/step - loss: 0.7968 - accuracy: 0.9000\n",
      "Epoch 14/50\n",
      "50/50 [==============================] - 0s 896us/step - loss: 0.7656 - accuracy: 0.9200\n",
      "Epoch 15/50\n",
      "50/50 [==============================] - 0s 1ms/step - loss: 0.7399 - accuracy: 0.8400\n",
      "Epoch 16/50\n",
      "50/50 [==============================] - 0s 977us/step - loss: 0.7118 - accuracy: 0.9200\n",
      "Epoch 17/50\n",
      "50/50 [==============================] - 0s 957us/step - loss: 0.6842 - accuracy: 0.8700\n",
      "Epoch 18/50\n",
      "50/50 [==============================] - 0s 949us/step - loss: 0.6617 - accuracy: 0.8000\n",
      "Epoch 19/50\n",
      "50/50 [==============================] - 0s 834us/step - loss: 0.6376 - accuracy: 0.8400\n",
      "Epoch 20/50\n",
      "50/50 [==============================] - 0s 957us/step - loss: 0.6167 - accuracy: 0.8700\n",
      "Epoch 21/50\n",
      "50/50 [==============================] - 0s 997us/step - loss: 0.5990 - accuracy: 0.8400\n",
      "Epoch 22/50\n",
      "50/50 [==============================] - 0s 916us/step - loss: 0.5801 - accuracy: 0.8500\n",
      "Epoch 23/50\n",
      "50/50 [==============================] - 0s 936us/step - loss: 0.5657 - accuracy: 0.8800\n",
      "Epoch 24/50\n",
      "50/50 [==============================] - 0s 1ms/step - loss: 0.5434 - accuracy: 0.8500\n",
      "Epoch 25/50\n",
      "50/50 [==============================] - 0s 977us/step - loss: 0.5291 - accuracy: 0.8000\n",
      "Epoch 26/50\n",
      "50/50 [==============================] - 0s 896us/step - loss: 0.5130 - accuracy: 0.9000\n",
      "Epoch 27/50\n",
      "50/50 [==============================] - 0s 896us/step - loss: 0.4967 - accuracy: 0.9200\n",
      "Epoch 28/50\n",
      "50/50 [==============================] - 0s 1ms/step - loss: 0.4894 - accuracy: 0.8100\n",
      "Epoch 29/50\n",
      "50/50 [==============================] - 0s 977us/step - loss: 0.4772 - accuracy: 0.9100\n",
      "Epoch 30/50\n",
      "50/50 [==============================] - 0s 916us/step - loss: 0.4674 - accuracy: 0.8700\n",
      "Epoch 31/50\n",
      "50/50 [==============================] - 0s 957us/step - loss: 0.4571 - accuracy: 0.9300\n",
      "Epoch 32/50\n",
      "50/50 [==============================] - 0s 936us/step - loss: 0.4475 - accuracy: 0.9000\n",
      "Epoch 33/50\n",
      "50/50 [==============================] - 0s 834us/step - loss: 0.4412 - accuracy: 0.8800\n",
      "Epoch 34/50\n",
      "50/50 [==============================] - 0s 977us/step - loss: 0.4376 - accuracy: 0.9300\n",
      "Epoch 35/50\n",
      "50/50 [==============================] - 0s 957us/step - loss: 0.4253 - accuracy: 0.9300\n",
      "Epoch 36/50\n",
      "50/50 [==============================] - 0s 1ms/step - loss: 0.4170 - accuracy: 0.9400\n",
      "Epoch 37/50\n",
      "50/50 [==============================] - 0s 1ms/step - loss: 0.4108 - accuracy: 0.9400\n",
      "Epoch 38/50\n",
      "50/50 [==============================] - 0s 1ms/step - loss: 0.4072 - accuracy: 0.9200\n",
      "Epoch 39/50\n",
      "50/50 [==============================] - 0s 2ms/step - loss: 0.4036 - accuracy: 0.9600\n",
      "Epoch 40/50\n",
      "50/50 [==============================] - 0s 3ms/step - loss: 0.3934 - accuracy: 0.9200\n",
      "Epoch 41/50\n",
      "50/50 [==============================] - 0s 2ms/step - loss: 0.3865 - accuracy: 0.9500\n",
      "Epoch 42/50\n",
      "50/50 [==============================] - 0s 2ms/step - loss: 0.3796 - accuracy: 0.9600\n",
      "Epoch 43/50\n",
      "50/50 [==============================] - 0s 2ms/step - loss: 0.3758 - accuracy: 0.9400\n",
      "Epoch 44/50\n",
      "50/50 [==============================] - 0s 2ms/step - loss: 0.3680 - accuracy: 0.9700\n",
      "Epoch 45/50\n",
      "50/50 [==============================] - 0s 2ms/step - loss: 0.3628 - accuracy: 0.9500\n",
      "Epoch 46/50\n",
      "50/50 [==============================] - 0s 2ms/step - loss: 0.3588 - accuracy: 0.9800\n",
      "Epoch 47/50\n",
      "50/50 [==============================] - 0s 1ms/step - loss: 0.3507 - accuracy: 0.9500\n",
      "Epoch 48/50\n",
      "50/50 [==============================] - 0s 1ms/step - loss: 0.3495 - accuracy: 0.9500\n",
      "Epoch 49/50\n",
      "50/50 [==============================] - 0s 916us/step - loss: 0.3436 - accuracy: 0.9500\n",
      "Epoch 50/50\n",
      "50/50 [==============================] - 0s 977us/step - loss: 0.3384 - accuracy: 0.9600\n"
     ]
    }
   ],
   "source": [
    "history = iris_mlp.fit(ds_train, epochs=NUM_EPOCH, steps_per_epoch=STEPS_PER_EPOCH)"
   ]
  },
  {
   "cell_type": "code",
   "execution_count": 42,
   "id": "86bd3889",
   "metadata": {},
   "outputs": [
    {
     "name": "stdout",
     "output_type": "stream",
     "text": [
      "1/1 [==============================] - 0s 141ms/step - loss: 0.3330 - accuracy: 0.9400\n"
     ]
    },
    {
     "data": {
      "text/plain": [
       "[0.3329547047615051, 0.9399999976158142]"
      ]
     },
     "execution_count": 42,
     "metadata": {},
     "output_type": "execute_result"
    }
   ],
   "source": [
    "iris_mlp.evaluate(ds_test.batch(50))"
   ]
  }
 ],
 "metadata": {
  "kernelspec": {
   "display_name": "Python 3",
   "language": "python",
   "name": "python3"
  },
  "language_info": {
   "codemirror_mode": {
    "name": "ipython",
    "version": 3
   },
   "file_extension": ".py",
   "mimetype": "text/x-python",
   "name": "python",
   "nbconvert_exporter": "python",
   "pygments_lexer": "ipython3",
   "version": "3.8.8"
  }
 },
 "nbformat": 4,
 "nbformat_minor": 5
}
